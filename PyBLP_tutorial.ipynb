{
 "cells": [
  {
   "cell_type": "markdown",
   "id": "fdd239ad",
   "metadata": {},
   "source": [
    "# Random Coefficients Logit Tutorial - PyBLP\n",
    "\n",
    "\n",
    "This tutorial follows Section 4 of the paper from Aviv Nevo (2000): \"A practitioner’s guide to estimation of random‐coefficients logit models of demand.  *Journal of Economics & Management Strategy*, 9 (4), 513-548\".\n",
    "\n",
    "The paper shows a possible application of the random-coefficients Logit model. We are going to use the same data and solve the paper’s cereal problem. The data is fake, and should only be used to learn the method.\n",
    "\n",
    "We will use the PyBLP package for Python 3. Documentation for this package can be found at https://pyblp.readthedocs.io/en/stable/index.html .\n",
    "\n",
    "### Theory of Random Coefficients Logit\n",
    "This method retains the benefits of simpler discrete-choice models: it can be estimated using only market-level price and quantity data and it deals with the endogeneity of prices. Moreover, it returns more realistic demand elasticities than Logit/Nested Logit models. \n",
    "\n",
    "The chosen specification of the indirect utility of consumer $i$ from consuming product $j$ in market $t$ is:\n",
    "\n",
    "$u_{ijt} = \\alpha_i p_{jt} + x'_{jt} \\beta_i + \\xi_{jt} + \\epsilon_{ijt}$\n",
    "\n",
    "Where $p_{jt}$ is the price, $x'_{jt}$ is the (row) vector of $K$ observable characteristics of the product, $\\epsilon_{ijt}$ is the mean-zero stochastic term,  i.i.d. distributed with the Type I Extreme Value (Gumbel) distribution, and $\\xi_{jt}$ is the unobserved (by the econometrician) characteristics.\n",
    "\n",
    "This specification can be derived from a quasilinear utility function (free of wealth effects) because of the way price enters the indirect utility function. Including wealth effects could be more reasonable for other types of products (e.g. cars). Notice that $\\xi_{jt}$, which among other things captures the elements of vertical product differentiation, is identical for all consumers, while $\\alpha_i$ varies: this is consistent with the theoretical literature of vertical product differentiation.\n",
    "\n",
    "The mean utility of the outside good is normalized to zero, so that $u_{i0t} = \\epsilon_{i0t}$.\n",
    "\n",
    "We can separate the linear component of utility from the non-linear one: $u_{ijt} = \\delta_{jt} + \\mu_{ijt} \\;$, where $\\delta_{jt} = \\alpha p_{jt} + x'_{jt} \\bar\\beta + \\xi_{jt} \\;$ is the aspects of mean utility that all individuals agree on, and $\\mu_{ijt}(\\theta) \\;$ is the individual specific heterogeneity (let $\\theta$ be a vector with all parameters of the model).\n",
    "\n",
    "Consumers are assumed to purchase one unit of the good that gives the highest utility. The set of individual attributes that lead to the choice of good $j$ is:\n",
    "\n",
    "$A_{jt}(\\delta) = \\{\\mu_i \\; | \\; \\delta_{jt} + \\mu_{ijt} > \\delta_{j't} + \\mu_{ij't},\\; \\text{for all} \\; j' \\neq j \\}$\n",
    "\n",
    "Therefore, the estimated market share of product $j$ is:\n",
    "\n",
    "$S_{jt}(\\delta_{jt}, \\theta) = \\int_{A_{jt}} \\frac{\\exp{(\\delta_{jt} + \\mu_{ijt})}}{1+\\sum_k \\exp{(\\delta_{kt} + \\mu_{ikt})}}d\\mu $\n",
    "\n",
    "For each $\\theta$ there is a unique $\\delta_{jt}(\\theta)$ that solves $S^{obs}_{jt} - S_{jt}(\\delta_{jt}, \\theta) = 0 \\;$ (Berry, 1994). This system of equations is nonlinear and is solved numerically. It can be solved by using the contraction mapping suggested by BLP(1995), which means computing the series:\n",
    "\n",
    "$\\delta_{jt}^{h+1} = \\delta_{jt}^{h} + ln(S^{obs}_{jt}) - ln(S_{jt}(\\delta_{jt}^{h}, \\theta))\\;\\;\\;\\;$ (see BLP Appendix I for proof of convergence)\n",
    "\n",
    "where $h=0, \\ldots, H$, $H$ is the smallest integer such that $||\\delta_{jt}^{H}-\\delta_{jt}^{H-1}||$ is smaller than some tolerance level, and $\\delta_{jt}^{H}$ is the approximation to $\\delta_{jt}$. In words, we begin evaluating the right-hand side of the series at some initial guess for $\\theta$ and $\\delta_{jt}$, obtain a new $\\delta_{jt}^{h}$, substitute $\\delta_{jt}^{h}$ back into the right-hand side of the series, and repeat the process until convergence. \n",
    "\n",
    "We then compute the error term vector $\\hat\\xi_{jt}(\\theta)$. Let $z_{jt}$ be a set of instruments such that $E[z'_{jt} \\xi_{jt}(\\theta)] = 0$. The GMM estimate is then\n",
    "\n",
    "$\\hat\\theta_{GMM} = \\underset{\\theta}{\\operatorname{argmin}} \\; \\xi(\\theta)' z_{jt} \\Phi^{-1} z'_{jt} \\xi(\\theta)$\n",
    "\n",
    "where $\\Phi$ is the variance-covariance matrix of the moments. The inverse is used to give less weight to those moments that have higher variance.\n",
    "\n",
    "### Specification of Random Taste Parameters\n",
    "\n",
    "We have to specify an initial guess of the nonlinear parameters. This serves two primary purposes: speeding up estimation and indicating to the solver through initial values of zero which parameters are restricted to be always zero.\n",
    "It is common to assume that the random taste parameters follow a multivariate normal distribution, and to break them up into three parts:\n",
    "\n",
    "$\\begin{pmatrix} \\alpha_i \\\\ \\beta_i \\end{pmatrix} =\\begin{pmatrix} \\alpha \\\\ \\beta \\end{pmatrix} + \\Pi d_i + \\Sigma v_i$.\n",
    "\n",
    "where $\\alpha$ and $\\beta$ are the mean taste which all individuals agree on, $d_i$ is a $D\\times1$ vector of known demographic variables, $\\Pi$ is a $(K+1)\\times D$ matrix of coefficients that measure how the taste characteristics vary with demographics, $\\Sigma$ is a $(K+1)\\times (K+1)$ matrix of parameters, and $v_i$ represents unknown individual characteristics. We cannot directly observe individual data about $d_i$ and $v_i$. The difference between the two is that we know something about the distribution of demographics $d_i$ (e.g. thorugh census data).\n",
    "\n",
    "### The Data\n",
    "The data used for the analysis below consists of `shares` and `prices` for 24 brands of breakfast cereals (a differentiated product ) in 47 cities over 2 quarters (`quarter`). `market_ids` are the unique market identifiers (which we subscript $t$). Whithin a market, the sum of all `shares` must be less than 1. Firm and brand are identified by columns `firm_ids`, `product_ids`. There are two product characteristics: `Sugar`, which measures sugar content, and `Mushy`, a dummy variable equal to one if the product gets soggy in milk. There are 20 pre-computed instruments (`demand_instruments0`, ... , `demand_instruments19`). These represent only the excluded instruments. The exogenous regressors will be automatically added to the set of instruments. Finally, demographic variables include the log of income (`Income`), the log of income squared, (`Income Sq`), `Age`, and `Child`, a dummy variable equal to one if the individual is less than sixteen.\n",
    "\n",
    "\n"
   ]
  },
  {
   "cell_type": "markdown",
   "id": "a7da7887",
   "metadata": {},
   "source": [
    "## Code\n",
    "\n",
    "We start with a plain logit model and then progressively move towards random effects.\n",
    "\n",
    "Before jumping into the code, let's go over some reserved variable names:\n",
    "\n",
    "1. `market_ids`: unique market identifiers\n",
    "2. `shares`: specifies market shares within `market_ids`\n",
    "3. `prices`: endogenous prices\n",
    "4. `demand_instruments_0`, `demand_instruments_1`: excluded instruments"
   ]
  },
  {
   "cell_type": "code",
   "execution_count": 1,
   "id": "cb4c246d",
   "metadata": {},
   "outputs": [
    {
     "data": {
      "text/plain": [
       "'0.12.0'"
      ]
     },
     "execution_count": 1,
     "metadata": {},
     "output_type": "execute_result"
    }
   ],
   "source": [
    "# Set up\n",
    "import pyblp\n",
    "import numpy as np\n",
    "import pandas as pd\n",
    "\n",
    "pyblp.options.digits = 2\n",
    "pyblp.options.verbose = False\n",
    "pyblp.__version__"
   ]
  },
  {
   "cell_type": "code",
   "execution_count": 3,
   "id": "8c228030",
   "metadata": {},
   "outputs": [
    {
     "data": {
      "text/html": [
       "<div>\n",
       "<style scoped>\n",
       "    .dataframe tbody tr th:only-of-type {\n",
       "        vertical-align: middle;\n",
       "    }\n",
       "\n",
       "    .dataframe tbody tr th {\n",
       "        vertical-align: top;\n",
       "    }\n",
       "\n",
       "    .dataframe thead th {\n",
       "        text-align: right;\n",
       "    }\n",
       "</style>\n",
       "<table border=\"1\" class=\"dataframe\">\n",
       "  <thead>\n",
       "    <tr style=\"text-align: right;\">\n",
       "      <th></th>\n",
       "      <th>market_ids</th>\n",
       "      <th>city_ids</th>\n",
       "      <th>quarter</th>\n",
       "      <th>product_ids</th>\n",
       "      <th>firm_ids</th>\n",
       "      <th>brand_ids</th>\n",
       "      <th>shares</th>\n",
       "      <th>prices</th>\n",
       "      <th>sugar</th>\n",
       "      <th>mushy</th>\n",
       "      <th>...</th>\n",
       "      <th>demand_instruments10</th>\n",
       "      <th>demand_instruments11</th>\n",
       "      <th>demand_instruments12</th>\n",
       "      <th>demand_instruments13</th>\n",
       "      <th>demand_instruments14</th>\n",
       "      <th>demand_instruments15</th>\n",
       "      <th>demand_instruments16</th>\n",
       "      <th>demand_instruments17</th>\n",
       "      <th>demand_instruments18</th>\n",
       "      <th>demand_instruments19</th>\n",
       "    </tr>\n",
       "  </thead>\n",
       "  <tbody>\n",
       "    <tr>\n",
       "      <th>0</th>\n",
       "      <td>C01Q1</td>\n",
       "      <td>1</td>\n",
       "      <td>1</td>\n",
       "      <td>F1B04</td>\n",
       "      <td>1</td>\n",
       "      <td>4</td>\n",
       "      <td>0.012417</td>\n",
       "      <td>0.072088</td>\n",
       "      <td>2</td>\n",
       "      <td>1</td>\n",
       "      <td>...</td>\n",
       "      <td>2.116358</td>\n",
       "      <td>-0.154708</td>\n",
       "      <td>-0.005796</td>\n",
       "      <td>0.014538</td>\n",
       "      <td>0.126244</td>\n",
       "      <td>0.067345</td>\n",
       "      <td>0.068423</td>\n",
       "      <td>0.034800</td>\n",
       "      <td>0.126346</td>\n",
       "      <td>0.035484</td>\n",
       "    </tr>\n",
       "    <tr>\n",
       "      <th>1</th>\n",
       "      <td>C01Q1</td>\n",
       "      <td>1</td>\n",
       "      <td>1</td>\n",
       "      <td>F1B06</td>\n",
       "      <td>1</td>\n",
       "      <td>6</td>\n",
       "      <td>0.007809</td>\n",
       "      <td>0.114178</td>\n",
       "      <td>18</td>\n",
       "      <td>1</td>\n",
       "      <td>...</td>\n",
       "      <td>-7.374091</td>\n",
       "      <td>-0.576412</td>\n",
       "      <td>0.012991</td>\n",
       "      <td>0.076143</td>\n",
       "      <td>0.029736</td>\n",
       "      <td>0.087867</td>\n",
       "      <td>0.110501</td>\n",
       "      <td>0.087784</td>\n",
       "      <td>0.049872</td>\n",
       "      <td>0.072579</td>\n",
       "    </tr>\n",
       "    <tr>\n",
       "      <th>2</th>\n",
       "      <td>C01Q1</td>\n",
       "      <td>1</td>\n",
       "      <td>1</td>\n",
       "      <td>F1B07</td>\n",
       "      <td>1</td>\n",
       "      <td>7</td>\n",
       "      <td>0.012995</td>\n",
       "      <td>0.132391</td>\n",
       "      <td>4</td>\n",
       "      <td>1</td>\n",
       "      <td>...</td>\n",
       "      <td>2.187872</td>\n",
       "      <td>-0.207346</td>\n",
       "      <td>0.003509</td>\n",
       "      <td>0.091781</td>\n",
       "      <td>0.163773</td>\n",
       "      <td>0.111881</td>\n",
       "      <td>0.108226</td>\n",
       "      <td>0.086439</td>\n",
       "      <td>0.122347</td>\n",
       "      <td>0.101842</td>\n",
       "    </tr>\n",
       "    <tr>\n",
       "      <th>3</th>\n",
       "      <td>C01Q1</td>\n",
       "      <td>1</td>\n",
       "      <td>1</td>\n",
       "      <td>F1B09</td>\n",
       "      <td>1</td>\n",
       "      <td>9</td>\n",
       "      <td>0.005770</td>\n",
       "      <td>0.130344</td>\n",
       "      <td>3</td>\n",
       "      <td>0</td>\n",
       "      <td>...</td>\n",
       "      <td>2.704576</td>\n",
       "      <td>0.040748</td>\n",
       "      <td>-0.003724</td>\n",
       "      <td>0.094732</td>\n",
       "      <td>0.135274</td>\n",
       "      <td>0.088090</td>\n",
       "      <td>0.101767</td>\n",
       "      <td>0.101777</td>\n",
       "      <td>0.110741</td>\n",
       "      <td>0.104332</td>\n",
       "    </tr>\n",
       "    <tr>\n",
       "      <th>4</th>\n",
       "      <td>C01Q1</td>\n",
       "      <td>1</td>\n",
       "      <td>1</td>\n",
       "      <td>F1B11</td>\n",
       "      <td>1</td>\n",
       "      <td>11</td>\n",
       "      <td>0.017934</td>\n",
       "      <td>0.154823</td>\n",
       "      <td>12</td>\n",
       "      <td>0</td>\n",
       "      <td>...</td>\n",
       "      <td>1.261242</td>\n",
       "      <td>0.034836</td>\n",
       "      <td>-0.000568</td>\n",
       "      <td>0.102451</td>\n",
       "      <td>0.130640</td>\n",
       "      <td>0.084818</td>\n",
       "      <td>0.101075</td>\n",
       "      <td>0.125169</td>\n",
       "      <td>0.133464</td>\n",
       "      <td>0.121111</td>\n",
       "    </tr>\n",
       "  </tbody>\n",
       "</table>\n",
       "<p>5 rows × 30 columns</p>\n",
       "</div>"
      ],
      "text/plain": [
       "  market_ids  city_ids  quarter product_ids  firm_ids  brand_ids    shares  \\\n",
       "0      C01Q1         1        1       F1B04         1          4  0.012417   \n",
       "1      C01Q1         1        1       F1B06         1          6  0.007809   \n",
       "2      C01Q1         1        1       F1B07         1          7  0.012995   \n",
       "3      C01Q1         1        1       F1B09         1          9  0.005770   \n",
       "4      C01Q1         1        1       F1B11         1         11  0.017934   \n",
       "\n",
       "     prices  sugar  mushy  ...  demand_instruments10  demand_instruments11  \\\n",
       "0  0.072088      2      1  ...              2.116358             -0.154708   \n",
       "1  0.114178     18      1  ...             -7.374091             -0.576412   \n",
       "2  0.132391      4      1  ...              2.187872             -0.207346   \n",
       "3  0.130344      3      0  ...              2.704576              0.040748   \n",
       "4  0.154823     12      0  ...              1.261242              0.034836   \n",
       "\n",
       "   demand_instruments12  demand_instruments13  demand_instruments14  \\\n",
       "0             -0.005796              0.014538              0.126244   \n",
       "1              0.012991              0.076143              0.029736   \n",
       "2              0.003509              0.091781              0.163773   \n",
       "3             -0.003724              0.094732              0.135274   \n",
       "4             -0.000568              0.102451              0.130640   \n",
       "\n",
       "   demand_instruments15  demand_instruments16  demand_instruments17  \\\n",
       "0              0.067345              0.068423              0.034800   \n",
       "1              0.087867              0.110501              0.087784   \n",
       "2              0.111881              0.108226              0.086439   \n",
       "3              0.088090              0.101767              0.101777   \n",
       "4              0.084818              0.101075              0.125169   \n",
       "\n",
       "   demand_instruments18  demand_instruments19  \n",
       "0              0.126346              0.035484  \n",
       "1              0.049872              0.072579  \n",
       "2              0.122347              0.101842  \n",
       "3              0.110741              0.104332  \n",
       "4              0.133464              0.121111  \n",
       "\n",
       "[5 rows x 30 columns]"
      ]
     },
     "execution_count": 3,
     "metadata": {},
     "output_type": "execute_result"
    }
   ],
   "source": [
    "# Import data\n",
    "product_data = pd.read_csv(pyblp.data.NEVO_PRODUCTS_LOCATION)\n",
    "product_data.head()\n",
    "\n",
    "# Note that the data already includes instruments. The library support calculation of demand instruments.\n",
    "# Check out: https://pyblp.readthedocs.io/en/stable/api.html#data-construction-functions"
   ]
  },
  {
   "cell_type": "code",
   "execution_count": 4,
   "id": "53851377",
   "metadata": {},
   "outputs": [
    {
     "name": "stdout",
     "output_type": "stream",
     "text": [
      "F1B17    94\n",
      "F3B14    94\n",
      "F2B19    94\n",
      "F6B18    94\n",
      "F1B13    94\n",
      "F2B28    94\n",
      "F1B11    94\n",
      "F2B40    94\n",
      "F2B26    94\n",
      "F2B08    94\n",
      "F1B04    94\n",
      "F4B12    94\n",
      "F2B48    94\n",
      "F2B15    94\n",
      "F1B30    94\n",
      "F3B06    94\n",
      "F2B16    94\n",
      "F1B09    94\n",
      "F1B45    94\n",
      "F1B07    94\n",
      "F2B05    94\n",
      "F1B06    94\n",
      "F4B02    94\n",
      "F4B10    94\n",
      "Name: product_ids, dtype: int64\n"
     ]
    }
   ],
   "source": [
    "# Let's check out our data\n",
    "products = product_data['product_ids'].value_counts()\n",
    "markets = product_data['market_ids'].value_counts()\n",
    "\n",
    "print(products)"
   ]
  },
  {
   "cell_type": "code",
   "execution_count": 10,
   "id": "e8eaf8d8",
   "metadata": {},
   "outputs": [
    {
     "name": "stdout",
     "output_type": "stream",
     "text": [
      "We have 24 products in our data set.\n",
      "We have 94 markets in our data set.\n"
     ]
    }
   ],
   "source": [
    "# Number of products and markets\n",
    "num_products = products.shape[0]\n",
    "num_markets = markets.shape[0]\n",
    "\n",
    "print(f'We have {num_products} products in our data set.')\n",
    "print(f'We have {num_markets} markets in our data set.')"
   ]
  },
  {
   "cell_type": "code",
   "execution_count": 11,
   "id": "7cc6c19e",
   "metadata": {},
   "outputs": [
    {
     "data": {
      "text/html": [
       "<div>\n",
       "<style scoped>\n",
       "    .dataframe tbody tr th:only-of-type {\n",
       "        vertical-align: middle;\n",
       "    }\n",
       "\n",
       "    .dataframe tbody tr th {\n",
       "        vertical-align: top;\n",
       "    }\n",
       "\n",
       "    .dataframe thead th {\n",
       "        text-align: right;\n",
       "    }\n",
       "</style>\n",
       "<table border=\"1\" class=\"dataframe\">\n",
       "  <thead>\n",
       "    <tr style=\"text-align: right;\">\n",
       "      <th></th>\n",
       "      <th>city_ids</th>\n",
       "      <th>quarter</th>\n",
       "      <th>firm_ids</th>\n",
       "      <th>brand_ids</th>\n",
       "      <th>shares</th>\n",
       "      <th>prices</th>\n",
       "      <th>sugar</th>\n",
       "      <th>mushy</th>\n",
       "      <th>demand_instruments0</th>\n",
       "      <th>demand_instruments1</th>\n",
       "      <th>...</th>\n",
       "      <th>demand_instruments10</th>\n",
       "      <th>demand_instruments11</th>\n",
       "      <th>demand_instruments12</th>\n",
       "      <th>demand_instruments13</th>\n",
       "      <th>demand_instruments14</th>\n",
       "      <th>demand_instruments15</th>\n",
       "      <th>demand_instruments16</th>\n",
       "      <th>demand_instruments17</th>\n",
       "      <th>demand_instruments18</th>\n",
       "      <th>demand_instruments19</th>\n",
       "    </tr>\n",
       "  </thead>\n",
       "  <tbody>\n",
       "    <tr>\n",
       "      <th>count</th>\n",
       "      <td>2256.000000</td>\n",
       "      <td>2256.000000</td>\n",
       "      <td>2256.000000</td>\n",
       "      <td>2256.000000</td>\n",
       "      <td>2256.000000</td>\n",
       "      <td>2256.000000</td>\n",
       "      <td>2256.000000</td>\n",
       "      <td>2256.000000</td>\n",
       "      <td>2256.000000</td>\n",
       "      <td>2256.000000</td>\n",
       "      <td>...</td>\n",
       "      <td>2256.000000</td>\n",
       "      <td>2256.000000</td>\n",
       "      <td>2256.000000</td>\n",
       "      <td>2256.000000</td>\n",
       "      <td>2256.000000</td>\n",
       "      <td>2256.000000</td>\n",
       "      <td>2256.000000</td>\n",
       "      <td>2256.000000</td>\n",
       "      <td>2256.000000</td>\n",
       "      <td>2256.000000</td>\n",
       "    </tr>\n",
       "    <tr>\n",
       "      <th>mean</th>\n",
       "      <td>32.340426</td>\n",
       "      <td>1.500000</td>\n",
       "      <td>2.125000</td>\n",
       "      <td>17.041667</td>\n",
       "      <td>0.019825</td>\n",
       "      <td>0.125740</td>\n",
       "      <td>8.625000</td>\n",
       "      <td>0.333333</td>\n",
       "      <td>0.025432</td>\n",
       "      <td>-0.002419</td>\n",
       "      <td>...</td>\n",
       "      <td>-0.515369</td>\n",
       "      <td>-0.144608</td>\n",
       "      <td>0.003708</td>\n",
       "      <td>0.090780</td>\n",
       "      <td>0.091614</td>\n",
       "      <td>0.090725</td>\n",
       "      <td>0.091702</td>\n",
       "      <td>0.090843</td>\n",
       "      <td>0.091712</td>\n",
       "      <td>0.090812</td>\n",
       "    </tr>\n",
       "    <tr>\n",
       "      <th>std</th>\n",
       "      <td>17.674998</td>\n",
       "      <td>0.500111</td>\n",
       "      <td>1.268893</td>\n",
       "      <td>12.610594</td>\n",
       "      <td>0.025600</td>\n",
       "      <td>0.029035</td>\n",
       "      <td>5.787851</td>\n",
       "      <td>0.471509</td>\n",
       "      <td>0.375534</td>\n",
       "      <td>0.045155</td>\n",
       "      <td>...</td>\n",
       "      <td>3.990604</td>\n",
       "      <td>0.236072</td>\n",
       "      <td>0.016006</td>\n",
       "      <td>0.030867</td>\n",
       "      <td>0.058537</td>\n",
       "      <td>0.051407</td>\n",
       "      <td>0.042725</td>\n",
       "      <td>0.030745</td>\n",
       "      <td>0.054232</td>\n",
       "      <td>0.029365</td>\n",
       "    </tr>\n",
       "    <tr>\n",
       "      <th>min</th>\n",
       "      <td>1.000000</td>\n",
       "      <td>1.000000</td>\n",
       "      <td>1.000000</td>\n",
       "      <td>2.000000</td>\n",
       "      <td>0.000182</td>\n",
       "      <td>0.045487</td>\n",
       "      <td>0.000000</td>\n",
       "      <td>0.000000</td>\n",
       "      <td>-1.069056</td>\n",
       "      <td>-0.195411</td>\n",
       "      <td>...</td>\n",
       "      <td>-17.193444</td>\n",
       "      <td>-0.915056</td>\n",
       "      <td>-0.086395</td>\n",
       "      <td>0.003210</td>\n",
       "      <td>-0.164910</td>\n",
       "      <td>-0.070215</td>\n",
       "      <td>-0.049078</td>\n",
       "      <td>-0.003689</td>\n",
       "      <td>-0.083744</td>\n",
       "      <td>-0.002656</td>\n",
       "    </tr>\n",
       "    <tr>\n",
       "      <th>25%</th>\n",
       "      <td>16.000000</td>\n",
       "      <td>1.000000</td>\n",
       "      <td>1.000000</td>\n",
       "      <td>7.750000</td>\n",
       "      <td>0.005183</td>\n",
       "      <td>0.105491</td>\n",
       "      <td>3.000000</td>\n",
       "      <td>0.000000</td>\n",
       "      <td>-0.212389</td>\n",
       "      <td>-0.023902</td>\n",
       "      <td>...</td>\n",
       "      <td>-2.865767</td>\n",
       "      <td>-0.301611</td>\n",
       "      <td>-0.005808</td>\n",
       "      <td>0.070321</td>\n",
       "      <td>0.051978</td>\n",
       "      <td>0.056119</td>\n",
       "      <td>0.061993</td>\n",
       "      <td>0.070375</td>\n",
       "      <td>0.054265</td>\n",
       "      <td>0.070948</td>\n",
       "    </tr>\n",
       "    <tr>\n",
       "      <th>50%</th>\n",
       "      <td>33.000000</td>\n",
       "      <td>1.500000</td>\n",
       "      <td>2.000000</td>\n",
       "      <td>13.500000</td>\n",
       "      <td>0.011141</td>\n",
       "      <td>0.123829</td>\n",
       "      <td>8.500000</td>\n",
       "      <td>0.000000</td>\n",
       "      <td>0.030063</td>\n",
       "      <td>0.001283</td>\n",
       "      <td>...</td>\n",
       "      <td>-0.271513</td>\n",
       "      <td>-0.038457</td>\n",
       "      <td>0.004256</td>\n",
       "      <td>0.088880</td>\n",
       "      <td>0.092130</td>\n",
       "      <td>0.090167</td>\n",
       "      <td>0.092052</td>\n",
       "      <td>0.088712</td>\n",
       "      <td>0.091365</td>\n",
       "      <td>0.089010</td>\n",
       "    </tr>\n",
       "    <tr>\n",
       "      <th>75%</th>\n",
       "      <td>47.000000</td>\n",
       "      <td>2.000000</td>\n",
       "      <td>2.250000</td>\n",
       "      <td>20.750000</td>\n",
       "      <td>0.024646</td>\n",
       "      <td>0.143293</td>\n",
       "      <td>13.250000</td>\n",
       "      <td>1.000000</td>\n",
       "      <td>0.232839</td>\n",
       "      <td>0.026311</td>\n",
       "      <td>...</td>\n",
       "      <td>2.086112</td>\n",
       "      <td>0.013594</td>\n",
       "      <td>0.015140</td>\n",
       "      <td>0.109991</td>\n",
       "      <td>0.130278</td>\n",
       "      <td>0.125697</td>\n",
       "      <td>0.121167</td>\n",
       "      <td>0.109972</td>\n",
       "      <td>0.128666</td>\n",
       "      <td>0.109260</td>\n",
       "    </tr>\n",
       "    <tr>\n",
       "      <th>max</th>\n",
       "      <td>65.000000</td>\n",
       "      <td>2.000000</td>\n",
       "      <td>6.000000</td>\n",
       "      <td>48.000000</td>\n",
       "      <td>0.446883</td>\n",
       "      <td>0.225728</td>\n",
       "      <td>20.000000</td>\n",
       "      <td>1.000000</td>\n",
       "      <td>1.090208</td>\n",
       "      <td>0.122818</td>\n",
       "      <td>...</td>\n",
       "      <td>10.193893</td>\n",
       "      <td>0.423279</td>\n",
       "      <td>0.049963</td>\n",
       "      <td>0.206038</td>\n",
       "      <td>0.283321</td>\n",
       "      <td>0.271270</td>\n",
       "      <td>0.253372</td>\n",
       "      <td>0.206615</td>\n",
       "      <td>0.291082</td>\n",
       "      <td>0.188043</td>\n",
       "    </tr>\n",
       "  </tbody>\n",
       "</table>\n",
       "<p>8 rows × 28 columns</p>\n",
       "</div>"
      ],
      "text/plain": [
       "          city_ids      quarter     firm_ids    brand_ids       shares  \\\n",
       "count  2256.000000  2256.000000  2256.000000  2256.000000  2256.000000   \n",
       "mean     32.340426     1.500000     2.125000    17.041667     0.019825   \n",
       "std      17.674998     0.500111     1.268893    12.610594     0.025600   \n",
       "min       1.000000     1.000000     1.000000     2.000000     0.000182   \n",
       "25%      16.000000     1.000000     1.000000     7.750000     0.005183   \n",
       "50%      33.000000     1.500000     2.000000    13.500000     0.011141   \n",
       "75%      47.000000     2.000000     2.250000    20.750000     0.024646   \n",
       "max      65.000000     2.000000     6.000000    48.000000     0.446883   \n",
       "\n",
       "            prices        sugar        mushy  demand_instruments0  \\\n",
       "count  2256.000000  2256.000000  2256.000000          2256.000000   \n",
       "mean      0.125740     8.625000     0.333333             0.025432   \n",
       "std       0.029035     5.787851     0.471509             0.375534   \n",
       "min       0.045487     0.000000     0.000000            -1.069056   \n",
       "25%       0.105491     3.000000     0.000000            -0.212389   \n",
       "50%       0.123829     8.500000     0.000000             0.030063   \n",
       "75%       0.143293    13.250000     1.000000             0.232839   \n",
       "max       0.225728    20.000000     1.000000             1.090208   \n",
       "\n",
       "       demand_instruments1  ...  demand_instruments10  demand_instruments11  \\\n",
       "count          2256.000000  ...           2256.000000           2256.000000   \n",
       "mean             -0.002419  ...             -0.515369             -0.144608   \n",
       "std               0.045155  ...              3.990604              0.236072   \n",
       "min              -0.195411  ...            -17.193444             -0.915056   \n",
       "25%              -0.023902  ...             -2.865767             -0.301611   \n",
       "50%               0.001283  ...             -0.271513             -0.038457   \n",
       "75%               0.026311  ...              2.086112              0.013594   \n",
       "max               0.122818  ...             10.193893              0.423279   \n",
       "\n",
       "       demand_instruments12  demand_instruments13  demand_instruments14  \\\n",
       "count           2256.000000           2256.000000           2256.000000   \n",
       "mean               0.003708              0.090780              0.091614   \n",
       "std                0.016006              0.030867              0.058537   \n",
       "min               -0.086395              0.003210             -0.164910   \n",
       "25%               -0.005808              0.070321              0.051978   \n",
       "50%                0.004256              0.088880              0.092130   \n",
       "75%                0.015140              0.109991              0.130278   \n",
       "max                0.049963              0.206038              0.283321   \n",
       "\n",
       "       demand_instruments15  demand_instruments16  demand_instruments17  \\\n",
       "count           2256.000000           2256.000000           2256.000000   \n",
       "mean               0.090725              0.091702              0.090843   \n",
       "std                0.051407              0.042725              0.030745   \n",
       "min               -0.070215             -0.049078             -0.003689   \n",
       "25%                0.056119              0.061993              0.070375   \n",
       "50%                0.090167              0.092052              0.088712   \n",
       "75%                0.125697              0.121167              0.109972   \n",
       "max                0.271270              0.253372              0.206615   \n",
       "\n",
       "       demand_instruments18  demand_instruments19  \n",
       "count           2256.000000           2256.000000  \n",
       "mean               0.091712              0.090812  \n",
       "std                0.054232              0.029365  \n",
       "min               -0.083744             -0.002656  \n",
       "25%                0.054265              0.070948  \n",
       "50%                0.091365              0.089010  \n",
       "75%                0.128666              0.109260  \n",
       "max                0.291082              0.188043  \n",
       "\n",
       "[8 rows x 28 columns]"
      ]
     },
     "execution_count": 11,
     "metadata": {},
     "output_type": "execute_result"
    }
   ],
   "source": [
    "# Some descriptives\n",
    "product_data.describe()"
   ]
  },
  {
   "cell_type": "code",
   "execution_count": 12,
   "id": "1408d1ee",
   "metadata": {},
   "outputs": [
    {
     "data": {
      "image/png": "[encoded data removed]",
      "text/plain": [
       "<Figure size 432x288 with 1 Axes>"
      ]
     },
     "metadata": {
      "needs_background": "light"
     },
     "output_type": "display_data"
    }
   ],
   "source": [
    "# Let's plot something\n",
    "import matplotlib.pyplot as plt\n",
    "%matplotlib inline\n",
    "\n",
    "plt.hist(product_data['prices'])\n",
    "plt.xlabel('Prices')\n",
    "plt.ylabel('Frequency')\n",
    "plt.title('Distribution of prices')\n",
    "plt.show()"
   ]
  },
  {
   "cell_type": "code",
   "execution_count": 13,
   "id": "c25ed821",
   "metadata": {},
   "outputs": [
    {
     "data": {
      "image/png": "[encoded data removed]",
      "text/plain": [
       "<Figure size 432x288 with 1 Axes>"
      ]
     },
     "metadata": {
      "needs_background": "light"
     },
     "output_type": "display_data"
    }
   ],
   "source": [
    "plt.hist(product_data['shares'])\n",
    "plt.xlabel('Market shares')\n",
    "plt.ylabel('Frequency')\n",
    "plt.title('Distribution of market shares')\n",
    "plt.show()"
   ]
  },
  {
   "cell_type": "code",
   "execution_count": 17,
   "id": "1d14ddb1",
   "metadata": {},
   "outputs": [
    {
     "name": "stdout",
     "output_type": "stream",
     "text": [
      "prices + Absorb[C(product_ids)]\n"
     ]
    }
   ],
   "source": [
    "# Set up: Need to specify the formulation of our demand model\n",
    "logit_formulation = pyblp.Formulation('prices', absorb='C(product_ids)')\n",
    "print(logit_formulation)"
   ]
  },
  {
   "cell_type": "code",
   "execution_count": 18,
   "id": "df91979e",
   "metadata": {},
   "outputs": [
    {
     "data": {
      "text/plain": [
       "Dimensions:\n",
       "================================\n",
       " T    N     F    K1    MD    ED \n",
       "---  ----  ---  ----  ----  ----\n",
       "94   2256   5    1     20    1  \n",
       "================================\n",
       "\n",
       "Formulations:\n",
       "==================================\n",
       "     Column Indices:          0   \n",
       "--------------------------  ------\n",
       "X1: Linear Characteristics  prices\n",
       "=================================="
      ]
     },
     "execution_count": 18,
     "metadata": {},
     "output_type": "execute_result"
    }
   ],
   "source": [
    "# With the formulation, we can set up the problem\n",
    "problem = pyblp.Problem(logit_formulation, product_data)\n",
    "problem"
   ]
  },
  {
   "cell_type": "markdown",
   "id": "780059fd",
   "metadata": {},
   "source": [
    "In the output above, we have the following information:\n",
    "\n",
    "$T$: number of markets\n",
    "\n",
    "$N$: number of product-market observations\n",
    "\n",
    "$F$: number of firms (not used in this example)\n",
    "\n",
    "$K_1$: dimension of linear demand parameters\n",
    "\n",
    "$M_D$: dimension of the instrument variables (excluded instruments + exogenous variables)\n",
    "\n",
    "$E_D$: number of fixed effect dimensions (e.g. one-dimensional fixed effects)"
   ]
  },
  {
   "cell_type": "code",
   "execution_count": 19,
   "id": "634ef536",
   "metadata": {},
   "outputs": [
    {
     "data": {
      "text/plain": [
       "Problem Results Summary:\n",
       "==========================================\n",
       "GMM   Objective  Clipped  Weighting Matrix\n",
       "Step    Value    Shares   Condition Number\n",
       "----  ---------  -------  ----------------\n",
       " 2    +1.9E+02      0         +5.7E+07    \n",
       "==========================================\n",
       "\n",
       "Cumulative Statistics:\n",
       "========================\n",
       "Computation   Objective \n",
       "   Time      Evaluations\n",
       "-----------  -----------\n",
       " 00:00:00         2     \n",
       "========================\n",
       "\n",
       "Beta Estimates (Robust SEs in Parentheses):\n",
       "==========\n",
       "  prices  \n",
       "----------\n",
       " -3.0E+01 \n",
       "(+1.0E+00)\n",
       "=========="
      ]
     },
     "execution_count": 19,
     "metadata": {},
     "output_type": "execute_result"
    }
   ],
   "source": [
    "# Let's compute it\n",
    "logit_results = problem.solve()\n",
    "logit_results"
   ]
  },
  {
   "cell_type": "code",
   "execution_count": 21,
   "id": "acde9299",
   "metadata": {},
   "outputs": [
    {
     "data": {
      "text/plain": [
       "array([[-30.04710289]])"
      ]
     },
     "execution_count": 21,
     "metadata": {},
     "output_type": "execute_result"
    }
   ],
   "source": [
    "# We can check out the estimated parameter(s)\n",
    "logit_results.parameters\n",
    "\n",
    "# For all the results methods, check out: https://pyblp.readthedocs.io/en/stable/api.html#problem-results-class"
   ]
  },
  {
   "cell_type": "code",
   "execution_count": 28,
   "id": "80043bc9",
   "metadata": {},
   "outputs": [
    {
     "data": {
      "text/plain": [
       "array([[-30.04710289]])"
      ]
     },
     "execution_count": 28,
     "metadata": {},
     "output_type": "execute_result"
    }
   ],
   "source": [
    "# We can check out a whole variety of estimation results\n",
    "# Check here for more info: https://pyblp.readthedocs.io/en/stable/_api/pyblp.ProblemResults.to_dict.html#pyblp.ProblemResults.to_dict\n",
    "logit_results_dict = logit_results.to_dict()\n",
    "#logit_results_dict"
   ]
  },
  {
   "cell_type": "markdown",
   "id": "e968c3bf",
   "metadata": {},
   "source": [
    "## Random coefficients\n",
    "\n",
    "If we want to include demographic information to estimate how tastes correlate for different product characteristics we can estimate a random coefficients model. Like mentioned in the introduction, this means that we now must include non-linear demand-side parameters collected in $\\mu_{ijt}$.\n",
    "\n",
    "Just like in the logit model, our data consists of the following information:\n",
    "\n",
    "$T$: number of markets\n",
    "\n",
    "$N$: number of product-market observations\n",
    "\n",
    "$F$: number of firms (not used in this example)\n",
    "\n",
    "$K_1$: dimension of linear demand parameters\n",
    "\n",
    "$K_2$: dimension of non-linear parameters\n",
    "\n",
    "$M_D$: dimension of the instrument variables (excluded instruments + exogenous variables)\n",
    "\n",
    "$E_D$: number of fixed effect dimensions (e.g. one-dimensional fixed effects)"
   ]
  },
  {
   "cell_type": "code",
   "execution_count": 29,
   "id": "67c72006",
   "metadata": {},
   "outputs": [
    {
     "data": {
      "text/html": [
       "<div>\n",
       "<style scoped>\n",
       "    .dataframe tbody tr th:only-of-type {\n",
       "        vertical-align: middle;\n",
       "    }\n",
       "\n",
       "    .dataframe tbody tr th {\n",
       "        vertical-align: top;\n",
       "    }\n",
       "\n",
       "    .dataframe thead th {\n",
       "        text-align: right;\n",
       "    }\n",
       "</style>\n",
       "<table border=\"1\" class=\"dataframe\">\n",
       "  <thead>\n",
       "    <tr style=\"text-align: right;\">\n",
       "      <th></th>\n",
       "      <th>market_ids</th>\n",
       "      <th>city_ids</th>\n",
       "      <th>quarter</th>\n",
       "      <th>product_ids</th>\n",
       "      <th>firm_ids</th>\n",
       "      <th>brand_ids</th>\n",
       "      <th>shares</th>\n",
       "      <th>prices</th>\n",
       "      <th>sugar</th>\n",
       "      <th>mushy</th>\n",
       "      <th>...</th>\n",
       "      <th>demand_instruments10</th>\n",
       "      <th>demand_instruments11</th>\n",
       "      <th>demand_instruments12</th>\n",
       "      <th>demand_instruments13</th>\n",
       "      <th>demand_instruments14</th>\n",
       "      <th>demand_instruments15</th>\n",
       "      <th>demand_instruments16</th>\n",
       "      <th>demand_instruments17</th>\n",
       "      <th>demand_instruments18</th>\n",
       "      <th>demand_instruments19</th>\n",
       "    </tr>\n",
       "  </thead>\n",
       "  <tbody>\n",
       "    <tr>\n",
       "      <th>0</th>\n",
       "      <td>C01Q1</td>\n",
       "      <td>1</td>\n",
       "      <td>1</td>\n",
       "      <td>F1B04</td>\n",
       "      <td>1</td>\n",
       "      <td>4</td>\n",
       "      <td>0.012417</td>\n",
       "      <td>0.072088</td>\n",
       "      <td>2</td>\n",
       "      <td>1</td>\n",
       "      <td>...</td>\n",
       "      <td>2.116358</td>\n",
       "      <td>-0.154708</td>\n",
       "      <td>-0.005796</td>\n",
       "      <td>0.014538</td>\n",
       "      <td>0.126244</td>\n",
       "      <td>0.067345</td>\n",
       "      <td>0.068423</td>\n",
       "      <td>0.034800</td>\n",
       "      <td>0.126346</td>\n",
       "      <td>0.035484</td>\n",
       "    </tr>\n",
       "    <tr>\n",
       "      <th>1</th>\n",
       "      <td>C01Q1</td>\n",
       "      <td>1</td>\n",
       "      <td>1</td>\n",
       "      <td>F1B06</td>\n",
       "      <td>1</td>\n",
       "      <td>6</td>\n",
       "      <td>0.007809</td>\n",
       "      <td>0.114178</td>\n",
       "      <td>18</td>\n",
       "      <td>1</td>\n",
       "      <td>...</td>\n",
       "      <td>-7.374091</td>\n",
       "      <td>-0.576412</td>\n",
       "      <td>0.012991</td>\n",
       "      <td>0.076143</td>\n",
       "      <td>0.029736</td>\n",
       "      <td>0.087867</td>\n",
       "      <td>0.110501</td>\n",
       "      <td>0.087784</td>\n",
       "      <td>0.049872</td>\n",
       "      <td>0.072579</td>\n",
       "    </tr>\n",
       "    <tr>\n",
       "      <th>2</th>\n",
       "      <td>C01Q1</td>\n",
       "      <td>1</td>\n",
       "      <td>1</td>\n",
       "      <td>F1B07</td>\n",
       "      <td>1</td>\n",
       "      <td>7</td>\n",
       "      <td>0.012995</td>\n",
       "      <td>0.132391</td>\n",
       "      <td>4</td>\n",
       "      <td>1</td>\n",
       "      <td>...</td>\n",
       "      <td>2.187872</td>\n",
       "      <td>-0.207346</td>\n",
       "      <td>0.003509</td>\n",
       "      <td>0.091781</td>\n",
       "      <td>0.163773</td>\n",
       "      <td>0.111881</td>\n",
       "      <td>0.108226</td>\n",
       "      <td>0.086439</td>\n",
       "      <td>0.122347</td>\n",
       "      <td>0.101842</td>\n",
       "    </tr>\n",
       "    <tr>\n",
       "      <th>3</th>\n",
       "      <td>C01Q1</td>\n",
       "      <td>1</td>\n",
       "      <td>1</td>\n",
       "      <td>F1B09</td>\n",
       "      <td>1</td>\n",
       "      <td>9</td>\n",
       "      <td>0.005770</td>\n",
       "      <td>0.130344</td>\n",
       "      <td>3</td>\n",
       "      <td>0</td>\n",
       "      <td>...</td>\n",
       "      <td>2.704576</td>\n",
       "      <td>0.040748</td>\n",
       "      <td>-0.003724</td>\n",
       "      <td>0.094732</td>\n",
       "      <td>0.135274</td>\n",
       "      <td>0.088090</td>\n",
       "      <td>0.101767</td>\n",
       "      <td>0.101777</td>\n",
       "      <td>0.110741</td>\n",
       "      <td>0.104332</td>\n",
       "    </tr>\n",
       "    <tr>\n",
       "      <th>4</th>\n",
       "      <td>C01Q1</td>\n",
       "      <td>1</td>\n",
       "      <td>1</td>\n",
       "      <td>F1B11</td>\n",
       "      <td>1</td>\n",
       "      <td>11</td>\n",
       "      <td>0.017934</td>\n",
       "      <td>0.154823</td>\n",
       "      <td>12</td>\n",
       "      <td>0</td>\n",
       "      <td>...</td>\n",
       "      <td>1.261242</td>\n",
       "      <td>0.034836</td>\n",
       "      <td>-0.000568</td>\n",
       "      <td>0.102451</td>\n",
       "      <td>0.130640</td>\n",
       "      <td>0.084818</td>\n",
       "      <td>0.101075</td>\n",
       "      <td>0.125169</td>\n",
       "      <td>0.133464</td>\n",
       "      <td>0.121111</td>\n",
       "    </tr>\n",
       "  </tbody>\n",
       "</table>\n",
       "<p>5 rows × 30 columns</p>\n",
       "</div>"
      ],
      "text/plain": [
       "  market_ids  city_ids  quarter product_ids  firm_ids  brand_ids    shares  \\\n",
       "0      C01Q1         1        1       F1B04         1          4  0.012417   \n",
       "1      C01Q1         1        1       F1B06         1          6  0.007809   \n",
       "2      C01Q1         1        1       F1B07         1          7  0.012995   \n",
       "3      C01Q1         1        1       F1B09         1          9  0.005770   \n",
       "4      C01Q1         1        1       F1B11         1         11  0.017934   \n",
       "\n",
       "     prices  sugar  mushy  ...  demand_instruments10  demand_instruments11  \\\n",
       "0  0.072088      2      1  ...              2.116358             -0.154708   \n",
       "1  0.114178     18      1  ...             -7.374091             -0.576412   \n",
       "2  0.132391      4      1  ...              2.187872             -0.207346   \n",
       "3  0.130344      3      0  ...              2.704576              0.040748   \n",
       "4  0.154823     12      0  ...              1.261242              0.034836   \n",
       "\n",
       "   demand_instruments12  demand_instruments13  demand_instruments14  \\\n",
       "0             -0.005796              0.014538              0.126244   \n",
       "1              0.012991              0.076143              0.029736   \n",
       "2              0.003509              0.091781              0.163773   \n",
       "3             -0.003724              0.094732              0.135274   \n",
       "4             -0.000568              0.102451              0.130640   \n",
       "\n",
       "   demand_instruments15  demand_instruments16  demand_instruments17  \\\n",
       "0              0.067345              0.068423              0.034800   \n",
       "1              0.087867              0.110501              0.087784   \n",
       "2              0.111881              0.108226              0.086439   \n",
       "3              0.088090              0.101767              0.101777   \n",
       "4              0.084818              0.101075              0.125169   \n",
       "\n",
       "   demand_instruments18  demand_instruments19  \n",
       "0              0.126346              0.035484  \n",
       "1              0.049872              0.072579  \n",
       "2              0.122347              0.101842  \n",
       "3              0.110741              0.104332  \n",
       "4              0.133464              0.121111  \n",
       "\n",
       "[5 rows x 30 columns]"
      ]
     },
     "execution_count": 29,
     "metadata": {},
     "output_type": "execute_result"
    }
   ],
   "source": [
    "# Import data\n",
    "product_data = pd.read_csv(pyblp.data.NEVO_PRODUCTS_LOCATION)\n",
    "product_data.head()"
   ]
  },
  {
   "cell_type": "markdown",
   "id": "fad216b1",
   "metadata": {},
   "source": [
    "For the estmation, we proceed with the following steps:\n",
    "\n",
    "1. Define a formulation for the (linear) $X_1$ demand model.\n",
    "2. Define a formulation for the (nonlinear) $X_2$ demand model. This should only include the variables over which we want random effects. \n",
    "3. Define an `Integration` configuration.\n",
    "4. Combine the `Formlation` classes, `product_data` and the `Integration` configuration to construct a `Problem`. "
   ]
  },
  {
   "cell_type": "code",
   "execution_count": 40,
   "id": "13174435",
   "metadata": {},
   "outputs": [
    {
     "data": {
      "text/plain": [
       "(prices + Absorb[C(product_ids)], 1 + prices + sugar + mushy)"
      ]
     },
     "execution_count": 40,
     "metadata": {},
     "output_type": "execute_result"
    }
   ],
   "source": [
    "X1_formulation = pyblp.Formulation('0 + prices', absorb='C(product_ids)')\n",
    "X2_formulation = pyblp.Formulation('1 + prices + sugar + mushy')\n",
    "product_formulations = (X1_formulation, X2_formulation)\n",
    "product_formulations"
   ]
  },
  {
   "cell_type": "code",
   "execution_count": 41,
   "id": "bcfa0fef",
   "metadata": {},
   "outputs": [
    {
     "data": {
      "text/plain": [
       "Configured to construct nodes and weights with Monte Carlo simulation with options {seed: 0}."
      ]
     },
     "execution_count": 41,
     "metadata": {},
     "output_type": "execute_result"
    }
   ],
   "source": [
    "# Define integration configuration (MC draws from standard normal for 50 individuals)\n",
    "mc_integration = pyblp.Integration('monte_carlo', size=50, specification_options={'seed': 0})\n",
    "mc_integration"
   ]
  },
  {
   "cell_type": "code",
   "execution_count": 42,
   "id": "d94adc93",
   "metadata": {},
   "outputs": [
    {
     "data": {
      "text/plain": [
       "Dimensions:\n",
       "============================================\n",
       " T    N     F    I     K1    K2    MD    ED \n",
       "---  ----  ---  ----  ----  ----  ----  ----\n",
       "94   2256   5   4700   1     4     20    1  \n",
       "============================================\n",
       "\n",
       "Formulations:\n",
       "===========================================================\n",
       "       Column Indices:           0       1       2      3  \n",
       "-----------------------------  ------  ------  -----  -----\n",
       " X1: Linear Characteristics    prices                      \n",
       "X2: Nonlinear Characteristics    1     prices  sugar  mushy\n",
       "==========================================================="
      ]
     },
     "execution_count": 42,
     "metadata": {},
     "output_type": "execute_result"
    }
   ],
   "source": [
    "# Set up the problem we are trying to solve\n",
    "mc_problem = pyblp.Problem(product_formulations, product_data, integration=mc_integration)\n",
    "mc_problem"
   ]
  },
  {
   "cell_type": "code",
   "execution_count": 48,
   "id": "50210c74",
   "metadata": {},
   "outputs": [
    {
     "data": {
      "text/plain": [
       "Problem Results Summary:\n",
       "=======================================================================================================\n",
       "GMM   Objective  Gradient      Hessian         Hessian     Clipped  Weighting Matrix  Covariance Matrix\n",
       "Step    Value      Norm    Min Eigenvalue  Max Eigenvalue  Shares   Condition Number  Condition Number \n",
       "----  ---------  --------  --------------  --------------  -------  ----------------  -----------------\n",
       " 2    +1.8E+02   +1.3E-06     +1.1E+00        +6.0E+03        0         +5.8E+07          +4.8E+04     \n",
       "=======================================================================================================\n",
       "\n",
       "Cumulative Statistics:\n",
       "===========================================================================\n",
       "Computation  Optimizer  Optimization   Objective   Fixed Point  Contraction\n",
       "   Time      Converged   Iterations   Evaluations  Iterations   Evaluations\n",
       "-----------  ---------  ------------  -----------  -----------  -----------\n",
       " 00:00:35       Yes          16           24          18586        57463   \n",
       "===========================================================================\n",
       "\n",
       "Nonlinear Coefficient Estimates (Robust SEs in Parentheses):\n",
       "======================================================\n",
       "Sigma:      1         prices      sugar       mushy   \n",
       "------  ----------  ----------  ----------  ----------\n",
       "  1      +5.2E-02                                     \n",
       "        (+1.1E+00)                                    \n",
       "                                                      \n",
       "prices   +0.0E+00    -4.3E-01                         \n",
       "                    (+8.0E+00)                        \n",
       "                                                      \n",
       "sugar    +0.0E+00    +0.0E+00    +3.6E-02             \n",
       "                                (+5.8E-02)            \n",
       "                                                      \n",
       "mushy    +0.0E+00    +0.0E+00    +0.0E+00    +5.0E-01 \n",
       "                                            (+1.7E+00)\n",
       "======================================================\n",
       "\n",
       "Beta Estimates (Robust SEs in Parentheses):\n",
       "==========\n",
       "  prices  \n",
       "----------\n",
       " -3.0E+01 \n",
       "(+1.4E+00)\n",
       "=========="
      ]
     },
     "execution_count": 48,
     "metadata": {},
     "output_type": "execute_result"
    }
   ],
   "source": [
    "# Set up optimization configuration\n",
    "bfgs = pyblp.Optimization('bfgs', {'gtol': 1e-4})\n",
    "\n",
    "results1 = mc_problem.solve(sigma=np.eye(4), optimization=bfgs)\n",
    "results1"
   ]
  },
  {
   "cell_type": "code",
   "execution_count": 50,
   "id": "63720d46",
   "metadata": {},
   "outputs": [
    {
     "data": {
      "text/plain": [
       "array([[  0.05247994],\n",
       "       [ -0.43386799],\n",
       "       [  0.03563226],\n",
       "       [  0.50109754],\n",
       "       [-30.21223885]])"
      ]
     },
     "execution_count": 50,
     "metadata": {},
     "output_type": "execute_result"
    }
   ],
   "source": [
    "# We can access the estimated parameters of our model\n",
    "results1.parameters"
   ]
  },
  {
   "cell_type": "code",
   "execution_count": 51,
   "id": "937dbe6d",
   "metadata": {},
   "outputs": [],
   "source": [
    "# Again, we can create a dict with all results\n",
    "results1_dict = results1.to_dict()\n",
    "#results1_dict"
   ]
  },
  {
   "cell_type": "markdown",
   "id": "5e16b818",
   "metadata": {},
   "source": [
    "## Estimation of marginal costs\n",
    "\n",
    "From the results class we can estimate marginal costs for each firm based multi-product differentiated first-order conditions. Then, marginal costs are estimated following\n",
    "\n",
    "$$ p - c = \\eta $$\n",
    "\n",
    "The mark-up $ \\eta = \\Delta^{-1}s $ depends on $ \\Delta $, a $J_t \\times J_t$ matrix of intra-firm (negative) demand derivatives.\n",
    "\n",
    "For more information, see: https://pyblp.readthedocs.io/en/stable/_api/pyblp.ProblemResults.compute_costs.html"
   ]
  },
  {
   "cell_type": "code",
   "execution_count": 52,
   "id": "60afa207",
   "metadata": {},
   "outputs": [
    {
     "data": {
      "text/plain": [
       "array([[0.03425579],\n",
       "       [0.07609447],\n",
       "       [0.09452116],\n",
       "       ...,\n",
       "       [0.10316988],\n",
       "       [0.06627124],\n",
       "       [0.0935867 ]])"
      ]
     },
     "execution_count": 52,
     "metadata": {},
     "output_type": "execute_result"
    }
   ],
   "source": [
    "# Compute marginal costs\n",
    "marginal_costs = results1.compute_costs()\n",
    "marginal_costs"
   ]
  },
  {
   "cell_type": "code",
   "execution_count": 54,
   "id": "3dd065f3",
   "metadata": {},
   "outputs": [
    {
     "data": {
      "text/plain": [
       "(2256, 1)"
      ]
     },
     "execution_count": 54,
     "metadata": {},
     "output_type": "execute_result"
    }
   ],
   "source": [
    "# Computes marginal costs for each product x market\n",
    "marginal_costs.shape"
   ]
  },
  {
   "cell_type": "markdown",
   "id": "a24d5955",
   "metadata": {},
   "source": [
    "## Adding demograhpic information"
   ]
  },
  {
   "cell_type": "code",
   "execution_count": 56,
   "id": "c0c39720",
   "metadata": {},
   "outputs": [
    {
     "data": {
      "text/html": [
       "<div>\n",
       "<style scoped>\n",
       "    .dataframe tbody tr th:only-of-type {\n",
       "        vertical-align: middle;\n",
       "    }\n",
       "\n",
       "    .dataframe tbody tr th {\n",
       "        vertical-align: top;\n",
       "    }\n",
       "\n",
       "    .dataframe thead th {\n",
       "        text-align: right;\n",
       "    }\n",
       "</style>\n",
       "<table border=\"1\" class=\"dataframe\">\n",
       "  <thead>\n",
       "    <tr style=\"text-align: right;\">\n",
       "      <th></th>\n",
       "      <th>market_ids</th>\n",
       "      <th>city_ids</th>\n",
       "      <th>quarter</th>\n",
       "      <th>weights</th>\n",
       "      <th>nodes0</th>\n",
       "      <th>nodes1</th>\n",
       "      <th>nodes2</th>\n",
       "      <th>nodes3</th>\n",
       "      <th>income</th>\n",
       "      <th>income_squared</th>\n",
       "      <th>age</th>\n",
       "      <th>child</th>\n",
       "    </tr>\n",
       "  </thead>\n",
       "  <tbody>\n",
       "    <tr>\n",
       "      <th>0</th>\n",
       "      <td>C01Q1</td>\n",
       "      <td>1</td>\n",
       "      <td>1</td>\n",
       "      <td>0.05</td>\n",
       "      <td>0.434101</td>\n",
       "      <td>-1.500838</td>\n",
       "      <td>-1.151079</td>\n",
       "      <td>0.161017</td>\n",
       "      <td>0.495123</td>\n",
       "      <td>8.331304</td>\n",
       "      <td>-0.230109</td>\n",
       "      <td>-0.230851</td>\n",
       "    </tr>\n",
       "    <tr>\n",
       "      <th>1</th>\n",
       "      <td>C01Q1</td>\n",
       "      <td>1</td>\n",
       "      <td>1</td>\n",
       "      <td>0.05</td>\n",
       "      <td>-0.726649</td>\n",
       "      <td>0.133182</td>\n",
       "      <td>-0.500750</td>\n",
       "      <td>0.129732</td>\n",
       "      <td>0.378762</td>\n",
       "      <td>6.121865</td>\n",
       "      <td>-2.532694</td>\n",
       "      <td>0.769149</td>\n",
       "    </tr>\n",
       "    <tr>\n",
       "      <th>2</th>\n",
       "      <td>C01Q1</td>\n",
       "      <td>1</td>\n",
       "      <td>1</td>\n",
       "      <td>0.05</td>\n",
       "      <td>-0.623061</td>\n",
       "      <td>-0.138241</td>\n",
       "      <td>0.797441</td>\n",
       "      <td>-0.795549</td>\n",
       "      <td>0.105015</td>\n",
       "      <td>1.030803</td>\n",
       "      <td>-0.006965</td>\n",
       "      <td>-0.230851</td>\n",
       "    </tr>\n",
       "    <tr>\n",
       "      <th>3</th>\n",
       "      <td>C01Q1</td>\n",
       "      <td>1</td>\n",
       "      <td>1</td>\n",
       "      <td>0.05</td>\n",
       "      <td>-0.041317</td>\n",
       "      <td>1.257136</td>\n",
       "      <td>-0.683054</td>\n",
       "      <td>0.259044</td>\n",
       "      <td>-1.485481</td>\n",
       "      <td>-25.583605</td>\n",
       "      <td>-0.827946</td>\n",
       "      <td>0.769149</td>\n",
       "    </tr>\n",
       "    <tr>\n",
       "      <th>4</th>\n",
       "      <td>C01Q1</td>\n",
       "      <td>1</td>\n",
       "      <td>1</td>\n",
       "      <td>0.05</td>\n",
       "      <td>-0.466691</td>\n",
       "      <td>0.226968</td>\n",
       "      <td>1.044424</td>\n",
       "      <td>0.092019</td>\n",
       "      <td>-0.316597</td>\n",
       "      <td>-6.517009</td>\n",
       "      <td>-0.230109</td>\n",
       "      <td>-0.230851</td>\n",
       "    </tr>\n",
       "  </tbody>\n",
       "</table>\n",
       "</div>"
      ],
      "text/plain": [
       "  market_ids  city_ids  quarter  weights    nodes0    nodes1    nodes2  \\\n",
       "0      C01Q1         1        1     0.05  0.434101 -1.500838 -1.151079   \n",
       "1      C01Q1         1        1     0.05 -0.726649  0.133182 -0.500750   \n",
       "2      C01Q1         1        1     0.05 -0.623061 -0.138241  0.797441   \n",
       "3      C01Q1         1        1     0.05 -0.041317  1.257136 -0.683054   \n",
       "4      C01Q1         1        1     0.05 -0.466691  0.226968  1.044424   \n",
       "\n",
       "     nodes3    income  income_squared       age     child  \n",
       "0  0.161017  0.495123        8.331304 -0.230109 -0.230851  \n",
       "1  0.129732  0.378762        6.121865 -2.532694  0.769149  \n",
       "2 -0.795549  0.105015        1.030803 -0.006965 -0.230851  \n",
       "3  0.259044 -1.485481      -25.583605 -0.827946  0.769149  \n",
       "4  0.092019 -0.316597       -6.517009 -0.230109 -0.230851  "
      ]
     },
     "execution_count": 56,
     "metadata": {},
     "output_type": "execute_result"
    }
   ],
   "source": [
    "# Import demograhpic information\n",
    "agent_data = pd.read_csv(pyblp.data.NEVO_AGENTS_LOCATION)\n",
    "agent_data.head()"
   ]
  },
  {
   "cell_type": "code",
   "execution_count": 58,
   "id": "ae49a79f",
   "metadata": {},
   "outputs": [
    {
     "data": {
      "text/plain": [
       "income + income_squared + age + child"
      ]
     },
     "execution_count": 58,
     "metadata": {},
     "output_type": "execute_result"
    }
   ],
   "source": [
    "agent_formulation = pyblp.Formulation('0 + income + income_squared + age + child')\n",
    "agent_formulation"
   ]
  },
  {
   "cell_type": "code",
   "execution_count": 59,
   "id": "259a518b",
   "metadata": {},
   "outputs": [
    {
     "data": {
      "text/plain": [
       "Dimensions:\n",
       "=================================================\n",
       " T    N     F    I     K1    K2    D    MD    ED \n",
       "---  ----  ---  ----  ----  ----  ---  ----  ----\n",
       "94   2256   5   1880   1     4     4    20    1  \n",
       "=================================================\n",
       "\n",
       "Formulations:\n",
       "===================================================================\n",
       "       Column Indices:           0           1           2      3  \n",
       "-----------------------------  ------  --------------  -----  -----\n",
       " X1: Linear Characteristics    prices                              \n",
       "X2: Nonlinear Characteristics    1         prices      sugar  mushy\n",
       "       d: Demographics         income  income_squared   age   child\n",
       "==================================================================="
      ]
     },
     "execution_count": 59,
     "metadata": {},
     "output_type": "execute_result"
    }
   ],
   "source": [
    "nevo_problem = pyblp.Problem(\n",
    "    product_formulations,\n",
    "    product_data,\n",
    "    agent_formulation,\n",
    "    agent_data\n",
    ")\n",
    "nevo_problem"
   ]
  },
  {
   "cell_type": "code",
   "execution_count": 60,
   "id": "7c617395",
   "metadata": {},
   "outputs": [],
   "source": [
    "# Initialize initial value for numerical optimization (same as in Nevo (2000))\n",
    "initial_sigma = np.diag([0.3302, 2.4526, 0.0163, 0.2441])\n",
    "#initial_sigma = np.diag([1, 1, 1, 1])\n",
    "\n",
    "\n",
    "initial_pi = np.array([\n",
    "  [ 5.4819,  0,      0.2037,  0     ],\n",
    "  [15.8935, -1.2000, 0,       2.6342],\n",
    "  [-0.2506,  0,      0.0511,  0     ],\n",
    "  [ 1.2650,  0,     -0.8091,  0     ]\n",
    "])"
   ]
  },
  {
   "cell_type": "code",
   "execution_count": 61,
   "id": "d3862652",
   "metadata": {},
   "outputs": [
    {
     "data": {
      "text/plain": [
       "Problem Results Summary:\n",
       "=======================================================================================================\n",
       "GMM   Objective  Gradient      Hessian         Hessian     Clipped  Weighting Matrix  Covariance Matrix\n",
       "Step    Value      Norm    Min Eigenvalue  Max Eigenvalue  Shares   Condition Number  Condition Number \n",
       "----  ---------  --------  --------------  --------------  -------  ----------------  -----------------\n",
       " 1    +4.6E+00   +6.9E-06     +3.1E-05        +1.6E+04        0         +6.9E+07          +8.4E+08     \n",
       "=======================================================================================================\n",
       "\n",
       "Cumulative Statistics:\n",
       "===========================================================================\n",
       "Computation  Optimizer  Optimization   Objective   Fixed Point  Contraction\n",
       "   Time      Converged   Iterations   Evaluations  Iterations   Evaluations\n",
       "-----------  ---------  ------------  -----------  -----------  -----------\n",
       " 00:01:28       Yes          51           57          45474       141154   \n",
       "===========================================================================\n",
       "\n",
       "Nonlinear Coefficient Estimates (Robust SEs in Parentheses):\n",
       "=====================================================================================================================\n",
       "Sigma:      1         prices      sugar       mushy     |   Pi:      income    income_squared     age        child   \n",
       "------  ----------  ----------  ----------  ----------  |  ------  ----------  --------------  ----------  ----------\n",
       "  1      +5.6E-01                                       |    1      +2.3E+00      +0.0E+00      +1.3E+00    +0.0E+00 \n",
       "        (+1.6E-01)                                      |          (+1.2E+00)                  (+6.3E-01)            \n",
       "                                                        |                                                            \n",
       "prices   +0.0E+00    +3.3E+00                           |  prices   +5.9E+02      -3.0E+01      +0.0E+00    +1.1E+01 \n",
       "                    (+1.3E+00)                          |          (+2.7E+02)    (+1.4E+01)                (+4.1E+00)\n",
       "                                                        |                                                            \n",
       "sugar    +0.0E+00    +0.0E+00    -5.8E-03               |  sugar    -3.8E-01      +0.0E+00      +5.2E-02    +0.0E+00 \n",
       "                                (+1.4E-02)              |          (+1.2E-01)                  (+2.6E-02)            \n",
       "                                                        |                                                            \n",
       "mushy    +0.0E+00    +0.0E+00    +0.0E+00    +9.3E-02   |  mushy    +7.5E-01      +0.0E+00      -1.4E+00    +0.0E+00 \n",
       "                                            (+1.9E-01)  |          (+8.0E-01)                  (+6.7E-01)            \n",
       "=====================================================================================================================\n",
       "\n",
       "Beta Estimates (Robust SEs in Parentheses):\n",
       "==========\n",
       "  prices  \n",
       "----------\n",
       " -6.3E+01 \n",
       "(+1.5E+01)\n",
       "=========="
      ]
     },
     "execution_count": 61,
     "metadata": {},
     "output_type": "execute_result"
    }
   ],
   "source": [
    "# Set up optimization configuration\n",
    "tighter_bfgs = pyblp.Optimization('bfgs',\n",
    "                                  {'gtol': 1e-5}\n",
    "                                 )\n",
    "\n",
    "# Solve problem\n",
    "nevo_results = nevo_problem.solve(\n",
    "    initial_sigma,\n",
    "    initial_pi,\n",
    "    optimization=tighter_bfgs,\n",
    "    method='1s'\n",
    ")\n",
    "nevo_results"
   ]
  },
  {
   "cell_type": "markdown",
   "id": "e1e84551",
   "metadata": {},
   "source": [
    "## Computation of elasticities\n",
    "\n",
    "For more detailed info: https://pyblp.readthedocs.io/en/stable/_notebooks/tutorial/post_estimation.html\n",
    "\n",
    "Recall that elasticities in each market are given by\n",
    "\n",
    "$$ \\epsilon_{jk} = \\frac{x_{kt}}{s_{jt}}\\frac{\\partial s_{jt}}{\\partial x_{kt}} $$\n",
    "\n",
    "where $x_k$ is the $k$th product attribute (by default this is equal to $p$)"
   ]
  },
  {
   "cell_type": "code",
   "execution_count": 63,
   "id": "db103c87",
   "metadata": {},
   "outputs": [
    {
     "data": {
      "text/plain": [
       "(2256, 24)"
      ]
     },
     "execution_count": 63,
     "metadata": {},
     "output_type": "execute_result"
    }
   ],
   "source": [
    "elasticities = nevo_results.compute_elasticities()\n",
    "elasticities.shape"
   ]
  },
  {
   "cell_type": "code",
   "execution_count": 66,
   "id": "0533e738",
   "metadata": {},
   "outputs": [
    {
     "name": "stdout",
     "output_type": "stream",
     "text": [
      "(24, 24)\n"
     ]
    }
   ],
   "source": [
    "# Note that if we call the compute_elasticities method, elasticities for all markets are computed and stacked.\n",
    "# Might be more illuminating to check out the elasticity matrix for a single market.\n",
    "\n",
    "# Compute for single market; note that for some reasons the kwarg market_id must not be str\n",
    "elasticities_single = nevo_results.compute_elasticities(name='prices', market_id=['C65Q2'])\n",
    "print(elasticities_single.shape)"
   ]
  },
  {
   "cell_type": "code",
   "execution_count": 67,
   "id": "b80071b5",
   "metadata": {},
   "outputs": [
    {
     "data": {
      "text/plain": [
       "array([[ 2.29197146e+00,  0.00000000e+00,  1.28443201e+00,\n",
       "         0.00000000e+00],\n",
       "       [ 5.88325089e+02, -3.01920128e+01,  0.00000000e+00,\n",
       "         1.10546281e+01],\n",
       "       [-3.84954073e-01,  0.00000000e+00,  5.22342705e-02,\n",
       "         0.00000000e+00],\n",
       "       [ 7.48372300e-01,  0.00000000e+00, -1.35339323e+00,\n",
       "         0.00000000e+00]])"
      ]
     },
     "execution_count": 67,
     "metadata": {},
     "output_type": "execute_result"
    }
   ],
   "source": [
    "nevo_results.pi"
   ]
  },
  {
   "cell_type": "code",
   "execution_count": 1,
   "id": "b06d7f1a",
   "metadata": {},
   "outputs": [],
   "source": [
    "# Some things that still need doing:\n",
    "\n",
    "# Discuss interpretation\n",
    "# Add some plots of parameter distributions\n",
    "# Matrix for elasticities"
   ]
  }
 ],
 "metadata": {
  "kernelspec": {
   "display_name": "Python 3 (ipykernel)",
   "language": "python",
   "name": "python3"
  },
  "language_info": {
   "codemirror_mode": {
    "name": "ipython",
    "version": 3
   },
   "file_extension": ".py",
   "mimetype": "text/x-python",
   "name": "python",
   "nbconvert_exporter": "python",
   "pygments_lexer": "ipython3",
   "version": "3.8.5"
  }
 },
 "nbformat": 4,
 "nbformat_minor": 5
}
