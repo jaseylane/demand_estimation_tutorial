{
 "cells": [
  {
   "cell_type": "markdown",
   "id": "fdd239ad",
   "metadata": {},
   "source": [
    "# Random Coefficients Logit Tutorial - PyBLP\n",
    "\n",
    "\n",
    "This tutorial follows Section 4 of the paper from Aviv Nevo (2000): \"A practitioner’s guide to estimation of random‐coefficients logit models of demand.  *Journal of Economics & Management Strategy*, 9 (4), 513-548\".\n",
    "\n",
    "The paper shows a possible application of the random-coefficients Logit model. We are going to use the same data and solve the paper’s cereal problem. The data is fake, and should only be used to learn the method.\n",
    "\n",
    "We will use the PyBLP package for Python 3. Documentation for this package can be found at https://pyblp.readthedocs.io/en/stable/index.html .\n",
    "\n",
    "### Theory of Random Coefficients Logit\n",
    "This method retains the benefits of simpler discrete-choice models: it can be estimated using only market-level price and quantity data and it deals with the endogeneity of prices. Moreover, it returns more realistic demand elasticities than Logit/Nested Logit models. \n",
    "\n",
    "The chosen specification of the indirect utility of consumer $i$ from consuming product $j$ in market $t$ is:\n",
    "\n",
    "$u_{ijt} = \\alpha_i p_{jt} + x'_{jt} \\beta_i + \\xi_{jt} + \\epsilon_{ijt}$\n",
    "\n",
    "Where $p_{jt}$ is the price, $x'_{jt}$ is the (row) vector of $K$ observable characteristics of the product, $\\epsilon_{ijt}$ is the mean-zero stochastic term,  i.i.d. distributed with the Type I Extreme Value (Gumbel) distribution, and $\\xi_{jt}$ is the unobserved (by the econometrician) characteristics.\n",
    "\n",
    "This specification can be derived from a quasilinear utility function (free of wealth effects) because of the way price enters the indirect utility function. Including wealth effects could be more reasonable for other types of products (e.g. cars). Notice that $\\xi_{jt}$, which among other things captures the elements of vertical product differentiation, is identical for all consumers, while $\\alpha_i$ varies: this is consistent with the theoretical literature of vertical product differentiation.\n",
    "\n",
    "The mean utility of the outside good is normalized to zero, so that $u_{i0t} = \\epsilon_{i0t}$.\n",
    "\n",
    "We can separate the linear component of utility from the non-linear one: $u_{ijt} = \\delta_{jt} + \\mu_{ijt} \\;$, where $\\delta_{jt} = \\alpha p_{jt} + x'_{jt} \\bar\\beta + \\xi_{jt} \\;$ is the aspects of mean utility that all individuals agree on, and $\\mu_{ijt}(\\theta) \\;$ is the individual specific heterogeneity (let $\\theta$ be a vector with all parameters of the model).\n",
    "\n",
    "Consumers are assumed to purchase one unit of the good that gives the highest utility. The set of individual attributes that lead to the choice of good $j$ is:\n",
    "\n",
    "$A_{jt}(\\delta) = \\{\\mu_i \\; | \\; \\delta_{jt} + \\mu_{ijt} > \\delta_{j't} + \\mu_{ij't},\\; \\text{for all} \\; j' \\neq j \\}$\n",
    "\n",
    "Therefore, the estimated market share of product $j$ is:\n",
    "\n",
    "$S_{jt}(\\delta_{jt}, \\theta) = \\int_{A_{jt}} \\frac{\\exp{(\\delta_{jt} + \\mu_{ijt})}}{1+\\sum_k \\exp{(\\delta_{kt} + \\mu_{ikt})}}d\\mu $\n",
    "\n",
    "For each $\\theta$ there is a unique $\\delta_{jt}(\\theta)$ that solves $S^{obs}_{jt} - S_{jt}(\\delta_{jt}, \\theta) = 0 \\;$ (Berry, 1994). This system of equations is nonlinear and is solved numerically. It can be solved by using the contraction mapping suggested by BLP(1995), which means computing the series:\n",
    "\n",
    "$\\delta_{jt}^{h+1} = \\delta_{jt}^{h} + ln(S^{obs}_{jt}) - ln(S_{jt}(\\delta_{jt}^{h}, \\theta))\\;\\;\\;\\;$ (see BLP Appendix I for proof of convergence)\n",
    "\n",
    "where $h=0, \\ldots, H$, $H$ is the smallest integer such that $||\\delta_{jt}^{H}-\\delta_{jt}^{H-1}||$ is smaller than some tolerance level, and $\\delta_{jt}^{H}$ is the approximation to $\\delta_{jt}$. In words, we begin evaluating the right-hand side of the series at some initial guess for $\\theta$ and $\\delta_{jt}$, obtain a new $\\delta_{jt}^{h}$, substitute $\\delta_{jt}^{h}$ back into the right-hand side of the series, and repeat the process until convergence. \n",
    "\n",
    "We then compute the error term vector $\\hat\\xi_{jt}(\\theta)$. Let $z_{jt}$ be a set of instruments such that $E[z'_{jt} \\xi_{jt}(\\theta)] = 0$. The GMM estimate is then\n",
    "\n",
    "$\\hat\\theta_{GMM} = \\underset{\\theta}{\\operatorname{argmin}} \\; \\xi(\\theta)' z_{jt} \\Phi^{-1} z'_{jt} \\xi(\\theta)$\n",
    "\n",
    "where $\\Phi$ is the variance-covariance matrix of the moments. The inverse is used to give less weight to those moments that have higher variance.\n",
    "\n",
    "### Specification of Random Taste Parameters\n",
    "\n",
    "We have to specify an initial guess of the nonlinear parameters. This serves two primary purposes: speeding up estimation and indicating to the solver through initial values of zero which parameters are restricted to be always zero.\n",
    "It is common to assume that the random taste parameters follow a multivariate normal distribution, and to break them up into three parts:\n",
    "\n",
    "$\\begin{pmatrix} \\alpha_i \\\\ \\beta_i \\end{pmatrix} =\\begin{pmatrix} \\alpha \\\\ \\beta \\end{pmatrix} + \\Pi d_i + \\Sigma v_i$.\n",
    "\n",
    "where $\\alpha$ and $\\beta$ are the mean taste which all individuals agree on, $d_i$ is a $D\\times1$ vector of known demographic variables, $\\Pi$ is a $(K+1)\\times D$ matrix of coefficients that measure how the taste characteristics vary with demographics, $\\Sigma$ is a $(K+1)\\times (K+1)$ matrix of parameters, and $v_i$ represents unknown individual characteristics. We cannot directly observe individual data about $d_i$ and $v_i$. The difference between the two is that we know something about the distribution of demographics $d_i$ (e.g. thorugh census data).\n",
    "\n",
    "### The Data\n",
    "The data used for the analysis below consists of `shares` and `prices` for 24 brands of breakfast cereals (a differentiated product ) in 47 cities over 2 quarters (`quarter`). `market_ids` are the unique market identifiers (which we subscript $t$). Whithin a market, the sum of all `shares` must be less than 1. Firm and brand are identified by columns `firm_ids`, `product_ids`. There are two product characteristics: `Sugar`, which measures sugar content, and `Mushy`, a dummy variable equal to one if the product gets soggy in milk. There are 20 pre-computed instruments (`demand_instruments0`, ... , `demand_instruments19`). These represent only the excluded instruments. The exogenous regressors will be automatically added to the set of instruments. Finally, demographic variables include the log of income (`Income`), the log of income squared, (`Income Sq`), `Age`, and `Child`, a dummy variable equal to one if the individual is less than sixteen.\n",
    "\n",
    "\n"
   ]
  },
  {
   "cell_type": "markdown",
   "id": "2ed9e259",
   "metadata": {},
   "source": []
  },
  {
   "cell_type": "markdown",
   "id": "4fbc7ae7",
   "metadata": {},
   "source": []
  },
  {
   "cell_type": "markdown",
   "id": "5c96d64f",
   "metadata": {},
   "source": []
  },
  {
   "cell_type": "markdown",
   "id": "f8673da8",
   "metadata": {},
   "source": [
    "## Explaining the Results"
   ]
  },
  {
   "cell_type": "markdown",
   "id": "a7da7887",
   "metadata": {},
   "source": [
    "## Code\n",
    "\n",
    "We start with a plain logit model and then progressively move towards random effects.\n",
    "\n",
    "Before jumping into the code, let's go over some reserved variable names:\n",
    "\n",
    "1. `market_ids`: unique market identifiers\n",
    "2. `shares`: specifies market shares within `market_ids`\n",
    "3. `prices`: endogenous prices\n",
    "4. `demand_instruments_0`, `demand_instruments_1`: excluded instruments"
   ]
  },
  {
   "cell_type": "code",
   "execution_count": 4,
   "id": "cb4c246d",
   "metadata": {},
   "outputs": [
    {
     "data": {
      "text/plain": [
       "'0.12.0'"
      ]
     },
     "execution_count": 4,
     "metadata": {},
     "output_type": "execute_result"
    }
   ],
   "source": [
    "# Set up\n",
    "import pyblp\n",
    "import numpy as np\n",
    "import pandas as pd\n",
    "\n",
    "pyblp.options.digits = 2\n",
    "pyblp.options.verbose = False\n",
    "pyblp.__version__"
   ]
  },
  {
   "cell_type": "code",
   "execution_count": 5,
   "id": "8c228030",
   "metadata": {},
   "outputs": [
    {
     "data": {
      "text/html": [
       "<div>\n",
       "<style scoped>\n",
       "    .dataframe tbody tr th:only-of-type {\n",
       "        vertical-align: middle;\n",
       "    }\n",
       "\n",
       "    .dataframe tbody tr th {\n",
       "        vertical-align: top;\n",
       "    }\n",
       "\n",
       "    .dataframe thead th {\n",
       "        text-align: right;\n",
       "    }\n",
       "</style>\n",
       "<table border=\"1\" class=\"dataframe\">\n",
       "  <thead>\n",
       "    <tr style=\"text-align: right;\">\n",
       "      <th></th>\n",
       "      <th>market_ids</th>\n",
       "      <th>city_ids</th>\n",
       "      <th>quarter</th>\n",
       "      <th>product_ids</th>\n",
       "      <th>firm_ids</th>\n",
       "      <th>brand_ids</th>\n",
       "      <th>shares</th>\n",
       "      <th>prices</th>\n",
       "      <th>sugar</th>\n",
       "      <th>mushy</th>\n",
       "      <th>...</th>\n",
       "      <th>demand_instruments10</th>\n",
       "      <th>demand_instruments11</th>\n",
       "      <th>demand_instruments12</th>\n",
       "      <th>demand_instruments13</th>\n",
       "      <th>demand_instruments14</th>\n",
       "      <th>demand_instruments15</th>\n",
       "      <th>demand_instruments16</th>\n",
       "      <th>demand_instruments17</th>\n",
       "      <th>demand_instruments18</th>\n",
       "      <th>demand_instruments19</th>\n",
       "    </tr>\n",
       "  </thead>\n",
       "  <tbody>\n",
       "    <tr>\n",
       "      <th>0</th>\n",
       "      <td>C01Q1</td>\n",
       "      <td>1</td>\n",
       "      <td>1</td>\n",
       "      <td>F1B04</td>\n",
       "      <td>1</td>\n",
       "      <td>4</td>\n",
       "      <td>0.012417</td>\n",
       "      <td>0.072088</td>\n",
       "      <td>2</td>\n",
       "      <td>1</td>\n",
       "      <td>...</td>\n",
       "      <td>2.116358</td>\n",
       "      <td>-0.154708</td>\n",
       "      <td>-0.005796</td>\n",
       "      <td>0.014538</td>\n",
       "      <td>0.126244</td>\n",
       "      <td>0.067345</td>\n",
       "      <td>0.068423</td>\n",
       "      <td>0.034800</td>\n",
       "      <td>0.126346</td>\n",
       "      <td>0.035484</td>\n",
       "    </tr>\n",
       "    <tr>\n",
       "      <th>1</th>\n",
       "      <td>C01Q1</td>\n",
       "      <td>1</td>\n",
       "      <td>1</td>\n",
       "      <td>F1B06</td>\n",
       "      <td>1</td>\n",
       "      <td>6</td>\n",
       "      <td>0.007809</td>\n",
       "      <td>0.114178</td>\n",
       "      <td>18</td>\n",
       "      <td>1</td>\n",
       "      <td>...</td>\n",
       "      <td>-7.374091</td>\n",
       "      <td>-0.576412</td>\n",
       "      <td>0.012991</td>\n",
       "      <td>0.076143</td>\n",
       "      <td>0.029736</td>\n",
       "      <td>0.087867</td>\n",
       "      <td>0.110501</td>\n",
       "      <td>0.087784</td>\n",
       "      <td>0.049872</td>\n",
       "      <td>0.072579</td>\n",
       "    </tr>\n",
       "    <tr>\n",
       "      <th>2</th>\n",
       "      <td>C01Q1</td>\n",
       "      <td>1</td>\n",
       "      <td>1</td>\n",
       "      <td>F1B07</td>\n",
       "      <td>1</td>\n",
       "      <td>7</td>\n",
       "      <td>0.012995</td>\n",
       "      <td>0.132391</td>\n",
       "      <td>4</td>\n",
       "      <td>1</td>\n",
       "      <td>...</td>\n",
       "      <td>2.187872</td>\n",
       "      <td>-0.207346</td>\n",
       "      <td>0.003509</td>\n",
       "      <td>0.091781</td>\n",
       "      <td>0.163773</td>\n",
       "      <td>0.111881</td>\n",
       "      <td>0.108226</td>\n",
       "      <td>0.086439</td>\n",
       "      <td>0.122347</td>\n",
       "      <td>0.101842</td>\n",
       "    </tr>\n",
       "    <tr>\n",
       "      <th>3</th>\n",
       "      <td>C01Q1</td>\n",
       "      <td>1</td>\n",
       "      <td>1</td>\n",
       "      <td>F1B09</td>\n",
       "      <td>1</td>\n",
       "      <td>9</td>\n",
       "      <td>0.005770</td>\n",
       "      <td>0.130344</td>\n",
       "      <td>3</td>\n",
       "      <td>0</td>\n",
       "      <td>...</td>\n",
       "      <td>2.704576</td>\n",
       "      <td>0.040748</td>\n",
       "      <td>-0.003724</td>\n",
       "      <td>0.094732</td>\n",
       "      <td>0.135274</td>\n",
       "      <td>0.088090</td>\n",
       "      <td>0.101767</td>\n",
       "      <td>0.101777</td>\n",
       "      <td>0.110741</td>\n",
       "      <td>0.104332</td>\n",
       "    </tr>\n",
       "    <tr>\n",
       "      <th>4</th>\n",
       "      <td>C01Q1</td>\n",
       "      <td>1</td>\n",
       "      <td>1</td>\n",
       "      <td>F1B11</td>\n",
       "      <td>1</td>\n",
       "      <td>11</td>\n",
       "      <td>0.017934</td>\n",
       "      <td>0.154823</td>\n",
       "      <td>12</td>\n",
       "      <td>0</td>\n",
       "      <td>...</td>\n",
       "      <td>1.261242</td>\n",
       "      <td>0.034836</td>\n",
       "      <td>-0.000568</td>\n",
       "      <td>0.102451</td>\n",
       "      <td>0.130640</td>\n",
       "      <td>0.084818</td>\n",
       "      <td>0.101075</td>\n",
       "      <td>0.125169</td>\n",
       "      <td>0.133464</td>\n",
       "      <td>0.121111</td>\n",
       "    </tr>\n",
       "  </tbody>\n",
       "</table>\n",
       "<p>5 rows × 30 columns</p>\n",
       "</div>"
      ],
      "text/plain": [
       "  market_ids  city_ids  quarter product_ids  firm_ids  brand_ids    shares  \\\n",
       "0      C01Q1         1        1       F1B04         1          4  0.012417   \n",
       "1      C01Q1         1        1       F1B06         1          6  0.007809   \n",
       "2      C01Q1         1        1       F1B07         1          7  0.012995   \n",
       "3      C01Q1         1        1       F1B09         1          9  0.005770   \n",
       "4      C01Q1         1        1       F1B11         1         11  0.017934   \n",
       "\n",
       "     prices  sugar  mushy  ...  demand_instruments10  demand_instruments11  \\\n",
       "0  0.072088      2      1  ...              2.116358             -0.154708   \n",
       "1  0.114178     18      1  ...             -7.374091             -0.576412   \n",
       "2  0.132391      4      1  ...              2.187872             -0.207346   \n",
       "3  0.130344      3      0  ...              2.704576              0.040748   \n",
       "4  0.154823     12      0  ...              1.261242              0.034836   \n",
       "\n",
       "   demand_instruments12  demand_instruments13  demand_instruments14  \\\n",
       "0             -0.005796              0.014538              0.126244   \n",
       "1              0.012991              0.076143              0.029736   \n",
       "2              0.003509              0.091781              0.163773   \n",
       "3             -0.003724              0.094732              0.135274   \n",
       "4             -0.000568              0.102451              0.130640   \n",
       "\n",
       "   demand_instruments15  demand_instruments16  demand_instruments17  \\\n",
       "0              0.067345              0.068423              0.034800   \n",
       "1              0.087867              0.110501              0.087784   \n",
       "2              0.111881              0.108226              0.086439   \n",
       "3              0.088090              0.101767              0.101777   \n",
       "4              0.084818              0.101075              0.125169   \n",
       "\n",
       "   demand_instruments18  demand_instruments19  \n",
       "0              0.126346              0.035484  \n",
       "1              0.049872              0.072579  \n",
       "2              0.122347              0.101842  \n",
       "3              0.110741              0.104332  \n",
       "4              0.133464              0.121111  \n",
       "\n",
       "[5 rows x 30 columns]"
      ]
     },
     "execution_count": 5,
     "metadata": {},
     "output_type": "execute_result"
    }
   ],
   "source": [
    "# Import data\n",
    "product_data = pd.read_csv(pyblp.data.NEVO_PRODUCTS_LOCATION)\n",
    "product_data.head()\n",
    "\n",
    "## TODO: How were demand instruments computed? Check: https://pyblp.readthedocs.io/en/stable/_api/pyblp.data.html#module-pyblp.data"
   ]
  },
  {
   "cell_type": "code",
   "execution_count": 6,
   "id": "1d14ddb1",
   "metadata": {},
   "outputs": [
    {
     "name": "stdout",
     "output_type": "stream",
     "text": [
      "prices + Absorb[C(product_ids)]\n"
     ]
    }
   ],
   "source": [
    "# Set up: Need to specify the formulation of our demand model\n",
    "logit_formulation = pyblp.Formulation('prices', absorb='C(product_ids)')\n",
    "print(logit_formulation)"
   ]
  },
  {
   "cell_type": "code",
   "execution_count": 7,
   "id": "df91979e",
   "metadata": {},
   "outputs": [
    {
     "data": {
      "text/plain": [
       "Dimensions:\n",
       "================================\n",
       " T    N     F    K1    MD    ED \n",
       "---  ----  ---  ----  ----  ----\n",
       "94   2256   5    1     20    1  \n",
       "================================\n",
       "\n",
       "Formulations:\n",
       "==================================\n",
       "     Column Indices:          0   \n",
       "--------------------------  ------\n",
       "X1: Linear Characteristics  prices\n",
       "=================================="
      ]
     },
     "execution_count": 7,
     "metadata": {},
     "output_type": "execute_result"
    }
   ],
   "source": [
    "# With the formulation, we can set up the problem\n",
    "problem = pyblp.Problem(logit_formulation, product_data)\n",
    "problem"
   ]
  },
  {
   "cell_type": "markdown",
   "id": "780059fd",
   "metadata": {},
   "source": [
    "In the output above, we have the following information:\n",
    "\n",
    "$T$: number of markets\n",
    "\n",
    "$N$: number of product-market observations\n",
    "\n",
    "$F$: number of firms (not used in this example)\n",
    "\n",
    "$K_1$: dimension of linear demand parameters\n",
    "\n",
    "$M_D$: dimension of the instrument variables (excluded instruments + exogenous variables)\n",
    "\n",
    "$E_D$: number of fixed effect dimensions (e.g. one-dimensional fixed effects)"
   ]
  },
  {
   "cell_type": "code",
   "execution_count": 8,
   "id": "634ef536",
   "metadata": {},
   "outputs": [
    {
     "data": {
      "text/plain": [
       "Problem Results Summary:\n",
       "==========================================\n",
       "GMM   Objective  Clipped  Weighting Matrix\n",
       "Step    Value    Shares   Condition Number\n",
       "----  ---------  -------  ----------------\n",
       " 2    +1.9E+02      0         +5.7E+07    \n",
       "==========================================\n",
       "\n",
       "Cumulative Statistics:\n",
       "========================\n",
       "Computation   Objective \n",
       "   Time      Evaluations\n",
       "-----------  -----------\n",
       " 00:00:00         2     \n",
       "========================\n",
       "\n",
       "Beta Estimates (Robust SEs in Parentheses):\n",
       "==========\n",
       "  prices  \n",
       "----------\n",
       " -3.0E+01 \n",
       "(+1.0E+00)\n",
       "=========="
      ]
     },
     "execution_count": 8,
     "metadata": {},
     "output_type": "execute_result"
    }
   ],
   "source": [
    "# Let's compute it\n",
    "logit_results = problem.solve()\n",
    "logit_results"
   ]
  },
  {
   "cell_type": "code",
   "execution_count": 9,
   "id": "acde9299",
   "metadata": {},
   "outputs": [
    {
     "data": {
      "text/plain": [
       "array([[-30.04710289]])"
      ]
     },
     "execution_count": 9,
     "metadata": {},
     "output_type": "execute_result"
    }
   ],
   "source": [
    "# We can check out the estimated parameter(s)\n",
    "logit_results.parameters"
   ]
  },
  {
   "cell_type": "markdown",
   "id": "e968c3bf",
   "metadata": {},
   "source": [
    "## Random coefficients\n",
    "\n",
    "If we want to include demographic information to estimate how tastes correlate for different product characteristics we can estimate a random coefficients model. Like mentioned in the introduction, this means that we now must include non-linear demand-side parameters collected in $\\mu_{ijt}$.\n",
    "\n",
    "Just like in the logit model, our data consists of the following information:\n",
    "\n",
    "$T$: number of markets\n",
    "\n",
    "$N$: number of product-market observations\n",
    "\n",
    "$F$: number of firms (not used in this example)\n",
    "\n",
    "$K_1$: dimension of linear demand parameters\n",
    "\n",
    "$M_D$: dimension of the instrument variables (excluded instruments + exogenous variables)\n",
    "\n",
    "$E_D$: number of fixed effect dimensions (e.g. one-dimensional fixed effects)"
   ]
  },
  {
   "cell_type": "code",
   "execution_count": 10,
   "id": "67c72006",
   "metadata": {},
   "outputs": [
    {
     "data": {
      "text/html": [
       "<div>\n",
       "<style scoped>\n",
       "    .dataframe tbody tr th:only-of-type {\n",
       "        vertical-align: middle;\n",
       "    }\n",
       "\n",
       "    .dataframe tbody tr th {\n",
       "        vertical-align: top;\n",
       "    }\n",
       "\n",
       "    .dataframe thead th {\n",
       "        text-align: right;\n",
       "    }\n",
       "</style>\n",
       "<table border=\"1\" class=\"dataframe\">\n",
       "  <thead>\n",
       "    <tr style=\"text-align: right;\">\n",
       "      <th></th>\n",
       "      <th>market_ids</th>\n",
       "      <th>city_ids</th>\n",
       "      <th>quarter</th>\n",
       "      <th>product_ids</th>\n",
       "      <th>firm_ids</th>\n",
       "      <th>brand_ids</th>\n",
       "      <th>shares</th>\n",
       "      <th>prices</th>\n",
       "      <th>sugar</th>\n",
       "      <th>mushy</th>\n",
       "      <th>...</th>\n",
       "      <th>demand_instruments10</th>\n",
       "      <th>demand_instruments11</th>\n",
       "      <th>demand_instruments12</th>\n",
       "      <th>demand_instruments13</th>\n",
       "      <th>demand_instruments14</th>\n",
       "      <th>demand_instruments15</th>\n",
       "      <th>demand_instruments16</th>\n",
       "      <th>demand_instruments17</th>\n",
       "      <th>demand_instruments18</th>\n",
       "      <th>demand_instruments19</th>\n",
       "    </tr>\n",
       "  </thead>\n",
       "  <tbody>\n",
       "    <tr>\n",
       "      <th>0</th>\n",
       "      <td>C01Q1</td>\n",
       "      <td>1</td>\n",
       "      <td>1</td>\n",
       "      <td>F1B04</td>\n",
       "      <td>1</td>\n",
       "      <td>4</td>\n",
       "      <td>0.012417</td>\n",
       "      <td>0.072088</td>\n",
       "      <td>2</td>\n",
       "      <td>1</td>\n",
       "      <td>...</td>\n",
       "      <td>2.116358</td>\n",
       "      <td>-0.154708</td>\n",
       "      <td>-0.005796</td>\n",
       "      <td>0.014538</td>\n",
       "      <td>0.126244</td>\n",
       "      <td>0.067345</td>\n",
       "      <td>0.068423</td>\n",
       "      <td>0.034800</td>\n",
       "      <td>0.126346</td>\n",
       "      <td>0.035484</td>\n",
       "    </tr>\n",
       "    <tr>\n",
       "      <th>1</th>\n",
       "      <td>C01Q1</td>\n",
       "      <td>1</td>\n",
       "      <td>1</td>\n",
       "      <td>F1B06</td>\n",
       "      <td>1</td>\n",
       "      <td>6</td>\n",
       "      <td>0.007809</td>\n",
       "      <td>0.114178</td>\n",
       "      <td>18</td>\n",
       "      <td>1</td>\n",
       "      <td>...</td>\n",
       "      <td>-7.374091</td>\n",
       "      <td>-0.576412</td>\n",
       "      <td>0.012991</td>\n",
       "      <td>0.076143</td>\n",
       "      <td>0.029736</td>\n",
       "      <td>0.087867</td>\n",
       "      <td>0.110501</td>\n",
       "      <td>0.087784</td>\n",
       "      <td>0.049872</td>\n",
       "      <td>0.072579</td>\n",
       "    </tr>\n",
       "    <tr>\n",
       "      <th>2</th>\n",
       "      <td>C01Q1</td>\n",
       "      <td>1</td>\n",
       "      <td>1</td>\n",
       "      <td>F1B07</td>\n",
       "      <td>1</td>\n",
       "      <td>7</td>\n",
       "      <td>0.012995</td>\n",
       "      <td>0.132391</td>\n",
       "      <td>4</td>\n",
       "      <td>1</td>\n",
       "      <td>...</td>\n",
       "      <td>2.187872</td>\n",
       "      <td>-0.207346</td>\n",
       "      <td>0.003509</td>\n",
       "      <td>0.091781</td>\n",
       "      <td>0.163773</td>\n",
       "      <td>0.111881</td>\n",
       "      <td>0.108226</td>\n",
       "      <td>0.086439</td>\n",
       "      <td>0.122347</td>\n",
       "      <td>0.101842</td>\n",
       "    </tr>\n",
       "    <tr>\n",
       "      <th>3</th>\n",
       "      <td>C01Q1</td>\n",
       "      <td>1</td>\n",
       "      <td>1</td>\n",
       "      <td>F1B09</td>\n",
       "      <td>1</td>\n",
       "      <td>9</td>\n",
       "      <td>0.005770</td>\n",
       "      <td>0.130344</td>\n",
       "      <td>3</td>\n",
       "      <td>0</td>\n",
       "      <td>...</td>\n",
       "      <td>2.704576</td>\n",
       "      <td>0.040748</td>\n",
       "      <td>-0.003724</td>\n",
       "      <td>0.094732</td>\n",
       "      <td>0.135274</td>\n",
       "      <td>0.088090</td>\n",
       "      <td>0.101767</td>\n",
       "      <td>0.101777</td>\n",
       "      <td>0.110741</td>\n",
       "      <td>0.104332</td>\n",
       "    </tr>\n",
       "    <tr>\n",
       "      <th>4</th>\n",
       "      <td>C01Q1</td>\n",
       "      <td>1</td>\n",
       "      <td>1</td>\n",
       "      <td>F1B11</td>\n",
       "      <td>1</td>\n",
       "      <td>11</td>\n",
       "      <td>0.017934</td>\n",
       "      <td>0.154823</td>\n",
       "      <td>12</td>\n",
       "      <td>0</td>\n",
       "      <td>...</td>\n",
       "      <td>1.261242</td>\n",
       "      <td>0.034836</td>\n",
       "      <td>-0.000568</td>\n",
       "      <td>0.102451</td>\n",
       "      <td>0.130640</td>\n",
       "      <td>0.084818</td>\n",
       "      <td>0.101075</td>\n",
       "      <td>0.125169</td>\n",
       "      <td>0.133464</td>\n",
       "      <td>0.121111</td>\n",
       "    </tr>\n",
       "  </tbody>\n",
       "</table>\n",
       "<p>5 rows × 30 columns</p>\n",
       "</div>"
      ],
      "text/plain": [
       "  market_ids  city_ids  quarter product_ids  firm_ids  brand_ids    shares  \\\n",
       "0      C01Q1         1        1       F1B04         1          4  0.012417   \n",
       "1      C01Q1         1        1       F1B06         1          6  0.007809   \n",
       "2      C01Q1         1        1       F1B07         1          7  0.012995   \n",
       "3      C01Q1         1        1       F1B09         1          9  0.005770   \n",
       "4      C01Q1         1        1       F1B11         1         11  0.017934   \n",
       "\n",
       "     prices  sugar  mushy  ...  demand_instruments10  demand_instruments11  \\\n",
       "0  0.072088      2      1  ...              2.116358             -0.154708   \n",
       "1  0.114178     18      1  ...             -7.374091             -0.576412   \n",
       "2  0.132391      4      1  ...              2.187872             -0.207346   \n",
       "3  0.130344      3      0  ...              2.704576              0.040748   \n",
       "4  0.154823     12      0  ...              1.261242              0.034836   \n",
       "\n",
       "   demand_instruments12  demand_instruments13  demand_instruments14  \\\n",
       "0             -0.005796              0.014538              0.126244   \n",
       "1              0.012991              0.076143              0.029736   \n",
       "2              0.003509              0.091781              0.163773   \n",
       "3             -0.003724              0.094732              0.135274   \n",
       "4             -0.000568              0.102451              0.130640   \n",
       "\n",
       "   demand_instruments15  demand_instruments16  demand_instruments17  \\\n",
       "0              0.067345              0.068423              0.034800   \n",
       "1              0.087867              0.110501              0.087784   \n",
       "2              0.111881              0.108226              0.086439   \n",
       "3              0.088090              0.101767              0.101777   \n",
       "4              0.084818              0.101075              0.125169   \n",
       "\n",
       "   demand_instruments18  demand_instruments19  \n",
       "0              0.126346              0.035484  \n",
       "1              0.049872              0.072579  \n",
       "2              0.122347              0.101842  \n",
       "3              0.110741              0.104332  \n",
       "4              0.133464              0.121111  \n",
       "\n",
       "[5 rows x 30 columns]"
      ]
     },
     "execution_count": 10,
     "metadata": {},
     "output_type": "execute_result"
    }
   ],
   "source": [
    "# Import data\n",
    "product_data = pd.read_csv(pyblp.data.NEVO_PRODUCTS_LOCATION)\n",
    "product_data.head()"
   ]
  },
  {
   "cell_type": "markdown",
   "id": "fad216b1",
   "metadata": {},
   "source": [
    "For the estmation, we proceed with the following steps:\n",
    "\n",
    "1. Define a formulation for the (linear) $X_1$ demand model.\n",
    "2. Define a formulation for the (nonlinear) $X_2$ demand model. This should only include the variables over which we want random effects. \n",
    "3. Define an `Integration` configuration.\n",
    "4. Combine the `Formlation` classes, `product_data` and the `Integration` configuration to construct a `Problem`. "
   ]
  },
  {
   "cell_type": "code",
   "execution_count": 11,
   "id": "13174435",
   "metadata": {},
   "outputs": [
    {
     "data": {
      "text/plain": [
       "(prices + Absorb[C(product_ids)], 1 + prices + sugar + mushy)"
      ]
     },
     "execution_count": 11,
     "metadata": {},
     "output_type": "execute_result"
    }
   ],
   "source": [
    "X1_formulation = pyblp.Formulation('0 + prices', absorb='C(product_ids)')\n",
    "X2_formulation = pyblp.Formulation('1 + prices + sugar + mushy')\n",
    "product_formulations = (X1_formulation, X2_formulation)\n",
    "product_formulations"
   ]
  },
  {
   "cell_type": "code",
   "execution_count": 12,
   "id": "bcfa0fef",
   "metadata": {},
   "outputs": [
    {
     "data": {
      "text/plain": [
       "Configured to construct nodes and weights with Monte Carlo simulation with options {seed: 0}."
      ]
     },
     "execution_count": 12,
     "metadata": {},
     "output_type": "execute_result"
    }
   ],
   "source": [
    "# Define integration configuration (MC draws from standard normal for 50 individuals)\n",
    "mc_integration = pyblp.Integration('monte_carlo', size=50, specification_options={'seed': 0})\n",
    "mc_integration"
   ]
  },
  {
   "cell_type": "code",
   "execution_count": 13,
   "id": "d94adc93",
   "metadata": {},
   "outputs": [
    {
     "data": {
      "text/plain": [
       "Dimensions:\n",
       "============================================\n",
       " T    N     F    I     K1    K2    MD    ED \n",
       "---  ----  ---  ----  ----  ----  ----  ----\n",
       "94   2256   5   4700   1     4     20    1  \n",
       "============================================\n",
       "\n",
       "Formulations:\n",
       "===========================================================\n",
       "       Column Indices:           0       1       2      3  \n",
       "-----------------------------  ------  ------  -----  -----\n",
       " X1: Linear Characteristics    prices                      \n",
       "X2: Nonlinear Characteristics    1     prices  sugar  mushy\n",
       "==========================================================="
      ]
     },
     "execution_count": 13,
     "metadata": {},
     "output_type": "execute_result"
    }
   ],
   "source": [
    "# Set up the problem we are trying to solve\n",
    "mc_problem = pyblp.Problem(product_formulations, product_data, integration=mc_integration)\n",
    "mc_problem"
   ]
  },
  {
   "cell_type": "code",
   "execution_count": 14,
   "id": "50210c74",
   "metadata": {},
   "outputs": [
    {
     "data": {
      "text/plain": [
       "Problem Results Summary:\n",
       "=======================================================================================================\n",
       "GMM   Objective  Gradient      Hessian         Hessian     Clipped  Weighting Matrix  Covariance Matrix\n",
       "Step    Value      Norm    Min Eigenvalue  Max Eigenvalue  Shares   Condition Number  Condition Number \n",
       "----  ---------  --------  --------------  --------------  -------  ----------------  -----------------\n",
       " 2    +1.8E+02   +1.3E-06     +1.1E+00        +6.0E+03        0         +5.8E+07          +4.8E+04     \n",
       "=======================================================================================================\n",
       "\n",
       "Cumulative Statistics:\n",
       "===========================================================================\n",
       "Computation  Optimizer  Optimization   Objective   Fixed Point  Contraction\n",
       "   Time      Converged   Iterations   Evaluations  Iterations   Evaluations\n",
       "-----------  ---------  ------------  -----------  -----------  -----------\n",
       " 00:00:15       Yes          16           24          18586        57463   \n",
       "===========================================================================\n",
       "\n",
       "Nonlinear Coefficient Estimates (Robust SEs in Parentheses):\n",
       "======================================================\n",
       "Sigma:      1         prices      sugar       mushy   \n",
       "------  ----------  ----------  ----------  ----------\n",
       "  1      +5.2E-02                                     \n",
       "        (+1.1E+00)                                    \n",
       "                                                      \n",
       "prices   +0.0E+00    -4.3E-01                         \n",
       "                    (+8.0E+00)                        \n",
       "                                                      \n",
       "sugar    +0.0E+00    +0.0E+00    +3.6E-02             \n",
       "                                (+5.8E-02)            \n",
       "                                                      \n",
       "mushy    +0.0E+00    +0.0E+00    +0.0E+00    +5.0E-01 \n",
       "                                            (+1.7E+00)\n",
       "======================================================\n",
       "\n",
       "Beta Estimates (Robust SEs in Parentheses):\n",
       "==========\n",
       "  prices  \n",
       "----------\n",
       " -3.0E+01 \n",
       "(+1.4E+00)\n",
       "=========="
      ]
     },
     "execution_count": 14,
     "metadata": {},
     "output_type": "execute_result"
    }
   ],
   "source": [
    "# Set up optimization configuration\n",
    "bfgs = pyblp.Optimization('bfgs', {'gtol': 1e-4})\n",
    "results1 = mc_problem.solve(sigma=np.eye(4), optimization=bfgs)\n",
    "results1"
   ]
  },
  {
   "cell_type": "code",
   "execution_count": 15,
   "id": "63720d46",
   "metadata": {},
   "outputs": [
    {
     "data": {
      "text/plain": [
       "array([[  0.05247994],\n",
       "       [ -0.43386799],\n",
       "       [  0.03563226],\n",
       "       [  0.50109754],\n",
       "       [-30.21223885]])"
      ]
     },
     "execution_count": 15,
     "metadata": {},
     "output_type": "execute_result"
    }
   ],
   "source": [
    "# We can access the estimated parameters of our model (see https://pyblp.readthedocs.io/en/stable/_api/pyblp.ProblemResults.html#pyblp.ProblemResults)\n",
    "results1.parameters"
   ]
  },
  {
   "cell_type": "markdown",
   "id": "a24d5955",
   "metadata": {},
   "source": [
    "## Adding demograhpic information"
   ]
  },
  {
   "cell_type": "code",
   "execution_count": 16,
   "id": "c0c39720",
   "metadata": {},
   "outputs": [
    {
     "data": {
      "text/html": [
       "<div>\n",
       "<style scoped>\n",
       "    .dataframe tbody tr th:only-of-type {\n",
       "        vertical-align: middle;\n",
       "    }\n",
       "\n",
       "    .dataframe tbody tr th {\n",
       "        vertical-align: top;\n",
       "    }\n",
       "\n",
       "    .dataframe thead th {\n",
       "        text-align: right;\n",
       "    }\n",
       "</style>\n",
       "<table border=\"1\" class=\"dataframe\">\n",
       "  <thead>\n",
       "    <tr style=\"text-align: right;\">\n",
       "      <th></th>\n",
       "      <th>market_ids</th>\n",
       "      <th>city_ids</th>\n",
       "      <th>quarter</th>\n",
       "      <th>weights</th>\n",
       "      <th>nodes0</th>\n",
       "      <th>nodes1</th>\n",
       "      <th>nodes2</th>\n",
       "      <th>nodes3</th>\n",
       "      <th>income</th>\n",
       "      <th>income_squared</th>\n",
       "      <th>age</th>\n",
       "      <th>child</th>\n",
       "    </tr>\n",
       "  </thead>\n",
       "  <tbody>\n",
       "    <tr>\n",
       "      <th>0</th>\n",
       "      <td>C01Q1</td>\n",
       "      <td>1</td>\n",
       "      <td>1</td>\n",
       "      <td>0.05</td>\n",
       "      <td>0.434101</td>\n",
       "      <td>-1.500838</td>\n",
       "      <td>-1.151079</td>\n",
       "      <td>0.161017</td>\n",
       "      <td>0.495123</td>\n",
       "      <td>8.331304</td>\n",
       "      <td>-0.230109</td>\n",
       "      <td>-0.230851</td>\n",
       "    </tr>\n",
       "    <tr>\n",
       "      <th>1</th>\n",
       "      <td>C01Q1</td>\n",
       "      <td>1</td>\n",
       "      <td>1</td>\n",
       "      <td>0.05</td>\n",
       "      <td>-0.726649</td>\n",
       "      <td>0.133182</td>\n",
       "      <td>-0.500750</td>\n",
       "      <td>0.129732</td>\n",
       "      <td>0.378762</td>\n",
       "      <td>6.121865</td>\n",
       "      <td>-2.532694</td>\n",
       "      <td>0.769149</td>\n",
       "    </tr>\n",
       "    <tr>\n",
       "      <th>2</th>\n",
       "      <td>C01Q1</td>\n",
       "      <td>1</td>\n",
       "      <td>1</td>\n",
       "      <td>0.05</td>\n",
       "      <td>-0.623061</td>\n",
       "      <td>-0.138241</td>\n",
       "      <td>0.797441</td>\n",
       "      <td>-0.795549</td>\n",
       "      <td>0.105015</td>\n",
       "      <td>1.030803</td>\n",
       "      <td>-0.006965</td>\n",
       "      <td>-0.230851</td>\n",
       "    </tr>\n",
       "    <tr>\n",
       "      <th>3</th>\n",
       "      <td>C01Q1</td>\n",
       "      <td>1</td>\n",
       "      <td>1</td>\n",
       "      <td>0.05</td>\n",
       "      <td>-0.041317</td>\n",
       "      <td>1.257136</td>\n",
       "      <td>-0.683054</td>\n",
       "      <td>0.259044</td>\n",
       "      <td>-1.485481</td>\n",
       "      <td>-25.583605</td>\n",
       "      <td>-0.827946</td>\n",
       "      <td>0.769149</td>\n",
       "    </tr>\n",
       "    <tr>\n",
       "      <th>4</th>\n",
       "      <td>C01Q1</td>\n",
       "      <td>1</td>\n",
       "      <td>1</td>\n",
       "      <td>0.05</td>\n",
       "      <td>-0.466691</td>\n",
       "      <td>0.226968</td>\n",
       "      <td>1.044424</td>\n",
       "      <td>0.092019</td>\n",
       "      <td>-0.316597</td>\n",
       "      <td>-6.517009</td>\n",
       "      <td>-0.230109</td>\n",
       "      <td>-0.230851</td>\n",
       "    </tr>\n",
       "  </tbody>\n",
       "</table>\n",
       "</div>"
      ],
      "text/plain": [
       "  market_ids  city_ids  quarter  weights    nodes0    nodes1    nodes2  \\\n",
       "0      C01Q1         1        1     0.05  0.434101 -1.500838 -1.151079   \n",
       "1      C01Q1         1        1     0.05 -0.726649  0.133182 -0.500750   \n",
       "2      C01Q1         1        1     0.05 -0.623061 -0.138241  0.797441   \n",
       "3      C01Q1         1        1     0.05 -0.041317  1.257136 -0.683054   \n",
       "4      C01Q1         1        1     0.05 -0.466691  0.226968  1.044424   \n",
       "\n",
       "     nodes3    income  income_squared       age     child  \n",
       "0  0.161017  0.495123        8.331304 -0.230109 -0.230851  \n",
       "1  0.129732  0.378762        6.121865 -2.532694  0.769149  \n",
       "2 -0.795549  0.105015        1.030803 -0.006965 -0.230851  \n",
       "3  0.259044 -1.485481      -25.583605 -0.827946  0.769149  \n",
       "4  0.092019 -0.316597       -6.517009 -0.230109 -0.230851  "
      ]
     },
     "execution_count": 16,
     "metadata": {},
     "output_type": "execute_result"
    }
   ],
   "source": [
    "# Import demograhpic information\n",
    "agent_data = pd.read_csv(pyblp.data.NEVO_AGENTS_LOCATION)\n",
    "agent_data.head()\n",
    "\n",
    "# FIXME: Check out integration nodes."
   ]
  },
  {
   "cell_type": "code",
   "execution_count": 17,
   "id": "ae49a79f",
   "metadata": {},
   "outputs": [
    {
     "data": {
      "text/plain": [
       "income + income_squared + age + child"
      ]
     },
     "execution_count": 17,
     "metadata": {},
     "output_type": "execute_result"
    }
   ],
   "source": [
    "agent_formulation = pyblp.Formulation('0 + income + income_squared + age + child')\n",
    "agent_formulation"
   ]
  },
  {
   "cell_type": "code",
   "execution_count": 18,
   "id": "259a518b",
   "metadata": {},
   "outputs": [
    {
     "data": {
      "text/plain": [
       "Dimensions:\n",
       "=================================================\n",
       " T    N     F    I     K1    K2    D    MD    ED \n",
       "---  ----  ---  ----  ----  ----  ---  ----  ----\n",
       "94   2256   5   1880   1     4     4    20    1  \n",
       "=================================================\n",
       "\n",
       "Formulations:\n",
       "===================================================================\n",
       "       Column Indices:           0           1           2      3  \n",
       "-----------------------------  ------  --------------  -----  -----\n",
       " X1: Linear Characteristics    prices                              \n",
       "X2: Nonlinear Characteristics    1         prices      sugar  mushy\n",
       "       d: Demographics         income  income_squared   age   child\n",
       "==================================================================="
      ]
     },
     "execution_count": 18,
     "metadata": {},
     "output_type": "execute_result"
    }
   ],
   "source": [
    "nevo_problem = pyblp.Problem(\n",
    "    product_formulations,\n",
    "    product_data,\n",
    "    agent_formulation,\n",
    "    agent_data\n",
    ")\n",
    "nevo_problem"
   ]
  },
  {
   "cell_type": "code",
   "execution_count": 19,
   "id": "7c617395",
   "metadata": {},
   "outputs": [
    {
     "name": "stdout",
     "output_type": "stream",
     "text": [
      "[[0.3302 0.     0.     0.    ]\n",
      " [0.     2.4526 0.     0.    ]\n",
      " [0.     0.     0.0163 0.    ]\n",
      " [0.     0.     0.     0.2441]]\n"
     ]
    }
   ],
   "source": [
    "# Initialize initial value for numerical optimization\n",
    "initial_sigma = np.diag([0.3302, 2.4526, 0.0163, 0.2441])\n",
    "#initial_sigma = np.diag([1, 1, 1, 1])\n",
    "print(initial_sigma)\n",
    "\n",
    "initial_pi = np.array([\n",
    "  [ 5.4819,  0,      0.2037,  0     ],\n",
    "  [15.8935, -1.2000, 0,       2.6342],\n",
    "  [-0.2506,  0,      0.0511,  0     ],\n",
    "  [ 1.2650,  0,     -0.8091,  0     ]\n",
    "])"
   ]
  },
  {
   "cell_type": "code",
   "execution_count": 20,
   "id": "d3862652",
   "metadata": {},
   "outputs": [
    {
     "data": {
      "text/plain": [
       "Problem Results Summary:\n",
       "=======================================================================================================\n",
       "GMM   Objective  Gradient      Hessian         Hessian     Clipped  Weighting Matrix  Covariance Matrix\n",
       "Step    Value      Norm    Min Eigenvalue  Max Eigenvalue  Shares   Condition Number  Condition Number \n",
       "----  ---------  --------  --------------  --------------  -------  ----------------  -----------------\n",
       " 1    +4.6E+00   +6.9E-06     +3.1E-05        +1.6E+04        0         +6.9E+07          +8.4E+08     \n",
       "=======================================================================================================\n",
       "\n",
       "Cumulative Statistics:\n",
       "===========================================================================\n",
       "Computation  Optimizer  Optimization   Objective   Fixed Point  Contraction\n",
       "   Time      Converged   Iterations   Evaluations  Iterations   Evaluations\n",
       "-----------  ---------  ------------  -----------  -----------  -----------\n",
       " 00:00:33       Yes          51           57          45474       141154   \n",
       "===========================================================================\n",
       "\n",
       "Nonlinear Coefficient Estimates (Robust SEs in Parentheses):\n",
       "=====================================================================================================================\n",
       "Sigma:      1         prices      sugar       mushy     |   Pi:      income    income_squared     age        child   \n",
       "------  ----------  ----------  ----------  ----------  |  ------  ----------  --------------  ----------  ----------\n",
       "  1      +5.6E-01                                       |    1      +2.3E+00      +0.0E+00      +1.3E+00    +0.0E+00 \n",
       "        (+1.6E-01)                                      |          (+1.2E+00)                  (+6.3E-01)            \n",
       "                                                        |                                                            \n",
       "prices   +0.0E+00    +3.3E+00                           |  prices   +5.9E+02      -3.0E+01      +0.0E+00    +1.1E+01 \n",
       "                    (+1.3E+00)                          |          (+2.7E+02)    (+1.4E+01)                (+4.1E+00)\n",
       "                                                        |                                                            \n",
       "sugar    +0.0E+00    +0.0E+00    -5.8E-03               |  sugar    -3.8E-01      +0.0E+00      +5.2E-02    +0.0E+00 \n",
       "                                (+1.4E-02)              |          (+1.2E-01)                  (+2.6E-02)            \n",
       "                                                        |                                                            \n",
       "mushy    +0.0E+00    +0.0E+00    +0.0E+00    +9.3E-02   |  mushy    +7.5E-01      +0.0E+00      -1.4E+00    +0.0E+00 \n",
       "                                            (+1.9E-01)  |          (+8.0E-01)                  (+6.7E-01)            \n",
       "=====================================================================================================================\n",
       "\n",
       "Beta Estimates (Robust SEs in Parentheses):\n",
       "==========\n",
       "  prices  \n",
       "----------\n",
       " -6.3E+01 \n",
       "(+1.5E+01)\n",
       "=========="
      ]
     },
     "execution_count": 20,
     "metadata": {},
     "output_type": "execute_result"
    }
   ],
   "source": [
    "# Set up optimization configuration\n",
    "tighter_bfgs = pyblp.Optimization('bfgs',\n",
    "                                  {'gtol': 1e-5}\n",
    "                                 )\n",
    "\n",
    "# Solve problem\n",
    "nevo_results = nevo_problem.solve(\n",
    "    initial_sigma,\n",
    "    initial_pi,\n",
    "    optimization=tighter_bfgs,\n",
    "    method='1s'\n",
    ")\n",
    "nevo_results"
   ]
  },
  {
   "cell_type": "code",
   "execution_count": 21,
   "id": "1fa5ce05",
   "metadata": {},
   "outputs": [
    {
     "data": {
      "text/plain": [
       "array([[ 2.29197146e+00,  0.00000000e+00,  1.28443201e+00,\n",
       "         0.00000000e+00],\n",
       "       [ 5.88325089e+02, -3.01920128e+01,  0.00000000e+00,\n",
       "         1.10546281e+01],\n",
       "       [-3.84954073e-01,  0.00000000e+00,  5.22342705e-02,\n",
       "         0.00000000e+00],\n",
       "       [ 7.48372300e-01,  0.00000000e+00, -1.35339323e+00,\n",
       "         0.00000000e+00]])"
      ]
     },
     "execution_count": 21,
     "metadata": {},
     "output_type": "execute_result"
    }
   ],
   "source": [
    "nevo_results.pi"
   ]
  },
  {
   "cell_type": "code",
   "execution_count": 22,
   "id": "0b07742c",
   "metadata": {},
   "outputs": [
    {
     "data": {
      "text/plain": [
       "array([[ 5.58093563e-01],\n",
       "       [ 3.31248885e+00],\n",
       "       [-5.78355175e-03],\n",
       "       [ 9.34144698e-02],\n",
       "       [ 2.29197146e+00],\n",
       "       [ 1.28443201e+00],\n",
       "       [ 5.88325089e+02],\n",
       "       [-3.01920128e+01],\n",
       "       [ 1.10546281e+01],\n",
       "       [-3.84954073e-01],\n",
       "       [ 5.22342705e-02],\n",
       "       [ 7.48372300e-01],\n",
       "       [-1.35339323e+00],\n",
       "       [-6.27298951e+01]])"
      ]
     },
     "execution_count": 22,
     "metadata": {},
     "output_type": "execute_result"
    }
   ],
   "source": [
    "nevo_results.parameters"
   ]
  },
  {
   "cell_type": "code",
   "execution_count": 28,
   "id": "d134c6e8",
   "metadata": {},
   "outputs": [],
   "source": [
    "# FIXME: Add some plots?"
   ]
  },
  {
   "cell_type": "markdown",
   "id": "e1e84551",
   "metadata": {},
   "source": [
    "## Computation of elasticities\n",
    "\n",
    "For more detailed info: https://pyblp.readthedocs.io/en/stable/_notebooks/tutorial/post_estimation.html\n",
    "\n",
    "Recall that elasticities in each market are given by\n",
    "\n",
    "$$ \\epsilon_{jk} = \\frac{x_{kt}}{s_{jt}}\\frac{\\partial s_{jt}}{\\partial x_{kt}} $$\n",
    "\n",
    "where $x_k$ is the $k$th product attribute (by default this is equal to $p$"
   ]
  },
  {
   "cell_type": "code",
   "execution_count": 30,
   "id": "db103c87",
   "metadata": {},
   "outputs": [
    {
     "data": {
      "text/plain": [
       "(2256, 24)"
      ]
     },
     "execution_count": 30,
     "metadata": {},
     "output_type": "execute_result"
    }
   ],
   "source": [
    "elasticities = nevo_results.compute_elasticities()\n",
    "elasticities.shape"
   ]
  },
  {
   "cell_type": "code",
   "execution_count": 47,
   "id": "dc145e42",
   "metadata": {},
   "outputs": [
    {
     "name": "stdout",
     "output_type": "stream",
     "text": [
      "There are (24,) unique product in our data frame.\n"
     ]
    }
   ],
   "source": [
    "# So what is in here? We have 24 unique product_ids\n",
    "print(f'There are {product_data.product_ids.value_counts().shape} unique product in our data frame.')"
   ]
  },
  {
   "cell_type": "code",
   "execution_count": 71,
   "id": "0533e738",
   "metadata": {},
   "outputs": [
    {
     "name": "stdout",
     "output_type": "stream",
     "text": [
      "[[-1.96594264e+00  1.14411699e-01  2.86012472e-01  3.21282334e-02\n",
      "   5.16063561e-02  9.46289125e-02  7.81746578e-02  2.53092758e-02\n",
      "   1.91439092e-02  1.38601518e-01  1.77963163e-02  1.41013751e-02\n",
      "   1.00009615e-01  2.21581564e-02  1.55297930e-02  1.21646746e-01\n",
      "   5.79597123e-03  9.08175757e-02  2.30078227e-02  1.30939817e-01\n",
      "   5.64110416e-02  1.36972702e-02  2.81960699e-02  1.87794036e-01]\n",
      " [ 7.25988647e-03 -4.67825480e+00  1.69411268e-01  1.35426921e-02\n",
      "   4.78287553e-02  2.36000642e-01  3.24364855e-02  1.17585603e-02\n",
      "   6.79946498e-02  4.26379380e-02  3.23085658e-02  7.15266510e-03\n",
      "   3.69972337e-02  3.07623483e-02  3.50654271e-02  1.55908309e-01\n",
      "   4.90298996e-03  3.58667129e-02  1.03028831e-01  9.07818518e-02\n",
      "   5.92832630e-02  7.59530945e-03  6.70709847e-02  5.16665493e-02]\n",
      " [ 1.59630723e-02  1.49009655e-01 -1.57378151e+00  2.93655837e-02\n",
      "   5.33267485e-02  1.12211134e-01  7.04689943e-02  2.34927986e-02\n",
      "   2.43851839e-02  1.22218868e-01  1.98721793e-02  1.30601783e-02\n",
      "   8.94109680e-02  2.40230369e-02  1.80631401e-02  1.36091696e-01\n",
      "   5.88604375e-03  8.27066234e-02  3.21720061e-02  1.28296496e-01\n",
      "   5.94165533e-02  1.30895173e-02  3.30101561e-02  1.63157083e-01]\n",
      " [ 1.49156305e-02  9.90832818e-02  2.44265370e-01 -2.86708221e+00\n",
      "   7.98598870e-02  1.48962311e-01  6.75226608e-02  3.35176427e-02\n",
      "   3.02327698e-02  1.67251581e-01  2.70088398e-02  1.22520663e-02\n",
      "   8.91884352e-02  3.45174126e-02  2.41769061e-02  1.08486960e-01\n",
      "   8.75276218e-03  1.17016016e-01  1.99363264e-02  1.87001357e-01\n",
      "   8.87024606e-02  1.92022766e-02  4.33474503e-02  2.18356329e-01]\n",
      " [ 1.12578859e-02  1.64430861e-01  2.08433366e-01  3.75255933e-02\n",
      "  -4.96716412e+00  2.28433350e-01  5.34365305e-02  3.14928032e-02\n",
      "   5.27680694e-02  1.41450385e-01  3.64226343e-02  1.02604477e-02\n",
      "   7.04312442e-02  4.37422696e-02  3.55303013e-02  1.34087638e-01\n",
      "   9.68034860e-03  1.05921338e-01  3.78047216e-02  1.94286951e-01\n",
      "   1.05214379e-01  1.90221806e-02  6.42172321e-02  1.78273589e-01]\n",
      " [ 7.26701649e-03  2.85618339e-01  1.54396246e-01  2.46407503e-02\n",
      "   8.04152024e-02 -4.22144816e+00  3.30165680e-02  2.11672973e-02\n",
      "   9.95448271e-02  8.31832847e-02  4.89749971e-02  6.86738728e-03\n",
      "   4.00115283e-02  4.95975215e-02  5.34623348e-02  1.28075832e-01\n",
      "   8.23511919e-03  6.68320938e-02  7.77768420e-02  1.53671769e-01\n",
      "   9.93705068e-02  1.34187173e-02  9.96901773e-02  1.02494763e-01]\n",
      " [ 1.76031032e-02  1.15105916e-01  2.84308478e-01  3.27505066e-02\n",
      "   5.51579164e-02  9.68105919e-02 -2.71669322e+00  2.60237062e-02\n",
      "   1.90230368e-02  1.39969607e-01  1.83020467e-02  1.41356421e-02\n",
      "   1.01124841e-01  2.33605411e-02  1.59255389e-02  1.30227131e-01\n",
      "   6.14602594e-03  9.29842129e-02  2.24854287e-02  1.36672711e-01\n",
      "   6.05116509e-02  1.43002784e-02  2.86682865e-02  1.88054333e-01]\n",
      " [ 1.43936284e-02  1.05386584e-01  2.39383281e-01  4.10590849e-02\n",
      "   8.21009615e-02  1.56755823e-01  6.57258893e-02 -3.09388587e+00\n",
      "   3.21750438e-02  1.65263783e-01  2.80653014e-02  1.20058209e-02\n",
      "   8.70292933e-02  3.57720208e-02  2.53365918e-02  1.12404335e-01\n",
      "   8.96081069e-03  1.16736672e-01  2.14964400e-02  1.89796010e-01\n",
      "   9.15728802e-02  1.93980286e-02  4.54189643e-02  2.14629524e-01]\n",
      " [ 5.71529288e-03  3.19906610e-01  1.30437477e-01  1.94415565e-02\n",
      "   7.22146688e-02  3.86985119e-01  2.52211258e-02  1.68902642e-02\n",
      "  -3.98358988e+00  6.17885557e-02  5.07234472e-02  5.47410795e-03\n",
      "   2.91717256e-02  4.85544118e-02  5.66677534e-02  1.18004917e-01\n",
      "   7.30130414e-03  5.15508495e-02  9.06206853e-02  1.32508302e-01\n",
      "   9.14086486e-02  1.09550465e-02  1.07037776e-01  7.52670534e-02]\n",
      " [ 1.62821709e-02  7.89370921e-02  2.57247446e-01  4.23213764e-02\n",
      "   7.61719036e-02  1.27247158e-01  7.30221844e-02  3.41374787e-02\n",
      "   2.43133331e-02 -3.06777281e+00  2.42571439e-02  1.30123818e-02\n",
      "   9.70527047e-02  3.17344223e-02  2.10082501e-02  1.00285533e-01\n",
      "   8.43646091e-03  1.20714076e-01  1.46599761e-02  1.84095093e-01\n",
      "   8.35073083e-02  1.92213989e-02  3.75144341e-02  2.32726675e-01]\n",
      " [ 8.57862027e-03  2.45440154e-01  1.71633207e-01  2.80439050e-02\n",
      "   8.04831629e-02  3.07418111e-01  3.91799377e-02  2.37884677e-02\n",
      "   8.19008151e-02  9.95365700e-02 -3.55650778e+00  7.88292548e-03\n",
      "   4.86923322e-02  4.58712433e-02  4.60565876e-02  1.26197606e-01\n",
      "   8.37389039e-03  7.71987715e-02  6.47906472e-02  1.61318136e-01\n",
      "   9.69744279e-02  1.47170458e-02  8.55754485e-02  1.24331355e-01]\n",
      " [ 1.66560658e-02  1.33143344e-01  2.76393967e-01  3.11720620e-02\n",
      "   5.55550612e-02  1.05625848e-01  7.41486519e-02  2.49351655e-02\n",
      "   2.16579056e-02  1.30834850e-01  1.93157269e-02 -2.46802018e+00\n",
      "   9.53565553e-02  2.41915890e-02  1.71869949e-02  1.37613379e-01\n",
      "   6.14246097e-03  8.82416604e-02  2.71734137e-02  1.34419626e-01\n",
      "   6.15301180e-02  1.38770264e-02  3.10703703e-02  1.74624356e-01]\n",
      " [ 1.78973796e-02  1.04341615e-01  2.86686329e-01  3.43796515e-02\n",
      "   5.77775883e-02  9.32396296e-02  8.03678408e-02  2.73856204e-02\n",
      "   1.74864621e-02  1.47846489e-01  1.80767746e-02  1.44473198e-02\n",
      "  -3.80780362e+00  2.37680764e-02  1.54741282e-02  1.30824638e-01\n",
      "   6.43353121e-03  9.82240431e-02  1.94210675e-02  1.42883354e-01\n",
      "   6.31371524e-02  1.51002769e-02  2.76293732e-02  1.98178152e-01]\n",
      " [ 9.73655384e-03  2.13025572e-01  1.89133320e-01  3.26704496e-02\n",
      "   8.81088055e-02  2.83791461e-01  4.55859803e-02  2.76391416e-02\n",
      "   7.14648486e-02  1.18701968e-01  4.18142999e-02  8.99963877e-03\n",
      "   5.83603630e-02 -4.81588032e+00  4.30357290e-02  1.34421818e-01\n",
      "   9.23063089e-03  9.10264924e-02  5.32879727e-02  1.80349682e-01\n",
      "   1.04413743e-01  1.69753984e-02  7.88324147e-02  1.48421831e-01]\n",
      " [ 7.66652820e-03  2.72805305e-01  1.59769845e-01  2.57086354e-02\n",
      "   8.04041222e-02  3.43675597e-01  3.49143502e-02  2.19933151e-02\n",
      "   9.37046627e-02  8.82833143e-02  4.71669182e-02  7.18326776e-03\n",
      "   4.26866001e-02  4.83493443e-02 -4.19005277e+00  1.27592349e-01\n",
      "   8.27666690e-03  7.00935535e-02  7.36102552e-02  1.56063737e-01\n",
      "   9.85426987e-02  1.38305157e-02  9.50164671e-02  1.09266293e-01]\n",
      " [ 1.20413874e-02  2.43212505e-01  2.41366031e-01  2.31312340e-02\n",
      "   6.08430709e-02  1.65086257e-01  5.72472012e-02  1.95644896e-02\n",
      "   3.91262541e-02  8.45025851e-02  2.59143203e-02  1.15325602e-02\n",
      "   7.23632193e-02  3.02812746e-02  2.55839498e-02 -5.19949244e+00\n",
      "   6.39372798e-03  6.46844637e-02  5.58397377e-02  1.25770711e-01\n",
      "   7.12704831e-02  1.20066107e-02  4.66382911e-02  1.05689330e-01]\n",
      " [ 1.16799508e-02  1.55709964e-01  2.12523407e-01  3.79931368e-02\n",
      "   8.94235987e-02  2.16098815e-01  5.50029441e-02  3.17520321e-02\n",
      "   4.92841609e-02  1.44720738e-01  3.50069873e-02  1.04796369e-02\n",
      "   7.24463498e-02  4.23325599e-02  3.37860327e-02  1.30164608e-01\n",
      "  -4.36149540e+00  1.07344173e-01  3.54237709e-02  1.93194008e-01\n",
      "   1.02679644e-01  1.90390067e-02  6.10478765e-02  1.83321619e-01]\n",
      " [ 1.50742529e-02  9.38205723e-02  2.45965772e-01  4.18366048e-02\n",
      "   8.05927003e-02  1.44450372e-01  6.85412259e-02  3.40708236e-02\n",
      "   2.86611660e-02  1.70560903e-01  2.65820796e-02  1.24001975e-02\n",
      "   9.11036977e-02  3.43844479e-02  2.35673580e-02  1.08465056e-01\n",
      "   8.84157379e-03 -3.11501838e+00  1.83632124e-02  1.89216275e-01\n",
      "   8.92748969e-02  1.95118779e-02  4.21273616e-02  2.22661398e-01]\n",
      " [ 5.80900791e-03  4.09945218e-01  1.45536887e-01  1.08421849e-02\n",
      "   4.37541090e-02  2.55708082e-01  2.52118302e-02  9.54338446e-03\n",
      "   7.66383107e-02  3.15076045e-02  3.39352800e-02  5.80844236e-03\n",
      "   2.74000811e-02  3.06185061e-02  3.76471148e-02  1.42427478e-01\n",
      "   4.43819565e-03  2.79324616e-02 -5.43454514e+00  8.01053751e-02\n",
      "   5.54182361e-02  6.32476267e-03  7.27938216e-02  3.74672473e-02]\n",
      " [ 1.26361088e-02  1.38064260e-01  2.21832367e-01  3.88715282e-02\n",
      "   8.59471763e-02  1.93109403e-01  5.85733670e-02  3.22060998e-02\n",
      "   4.28328378e-02  1.51230545e-01  3.22951638e-02  1.09823010e-02\n",
      "   7.70505184e-02  3.96082231e-02  3.05077765e-02  1.22615426e-01\n",
      "   9.25167751e-03  1.10010521e-01  3.06180014e-02 -3.25751659e+00\n",
      "   9.76527639e-02  1.90234443e-02  5.50675184e-02  1.93572962e-01]\n",
      " [ 1.07572908e-02  1.78160531e-01  2.03008741e-01  3.64350767e-02\n",
      "   9.19729766e-02  2.46753885e-01  5.12453598e-02  3.07054238e-02\n",
      "   5.83872760e-02  1.35556065e-01  3.83626579e-02  9.93380373e-03\n",
      "   6.72784667e-02  4.53132080e-02  3.80653801e-02  1.37300608e-01\n",
      "   9.71646637e-03  1.02565725e-01  4.18567055e-02  1.92966404e-01\n",
      "  -5.58158608e+00  1.86908190e-02  6.89541436e-02  1.70028732e-01]\n",
      " [ 1.34787478e-02  1.17788151e-01  2.30785037e-01  4.07017868e-02\n",
      "   8.58068933e-02  1.71946853e-01  6.24937770e-02  3.35646830e-02\n",
      "   3.61095340e-02  1.61011240e-01  3.00433834e-02  1.15611484e-02\n",
      "   8.30333846e-02  3.80157756e-02  2.75689882e-02  1.19360306e-01\n",
      "   9.29704683e-03  1.15677449e-01  2.46509303e-02  1.93982723e-01\n",
      "   9.64506293e-02 -3.58041294e+00  4.94353621e-02  2.07171517e-01]\n",
      " [ 7.38045817e-03  2.76675074e-01  1.54814208e-01  2.44401312e-02\n",
      "   7.70535552e-02  3.39793304e-01  3.33252361e-02  2.09045778e-02\n",
      "   9.38477696e-02  8.35889408e-02  4.64682803e-02  6.88541641e-03\n",
      "   4.04127200e-02  4.69599827e-02  5.03802771e-02  1.23327901e-01\n",
      "   7.92958600e-03  6.64344145e-02  7.54679962e-02  1.49364925e-01\n",
      "   9.46490640e-02  1.31497331e-02 -3.60492448e+00  1.03539265e-01]\n",
      " [ 1.68839339e-02  7.32051965e-02  2.62824756e-01  4.22866092e-02\n",
      "   7.34725660e-02  1.19994469e-01  7.50847857e-02  3.39305376e-02\n",
      "   2.26667313e-02  1.78112209e-01  2.31891691e-02  1.32918583e-02\n",
      "   9.95634473e-02  3.03681254e-02  1.98996293e-02  9.59946344e-02\n",
      "   8.17882165e-03  1.20606547e-01  1.33418848e-02  1.80341184e-01\n",
      "   8.01632602e-02  1.89280715e-02  3.55633104e-02 -2.95704338e+00]]\n"
     ]
    }
   ],
   "source": [
    "# Note that if we call the compute_elasticities method, elasticities for all markets are computed and stacked.\n",
    "# Might be more illuminating to check out the elasticity matrix for a single market.\n",
    "\n",
    "# Compute for single market; note that for some reasons the kwarg market_id must not be str\n",
    "elasticities_single = nevo_results.compute_elasticities(name='prices', market_id=['C65Q2'])\n",
    "print(elasticities_single)"
   ]
  },
  {
   "cell_type": "code",
   "execution_count": 66,
   "id": "6a11d00e",
   "metadata": {},
   "outputs": [],
   "source": []
  },
  {
   "cell_type": "code",
   "execution_count": null,
   "id": "0a4b2875",
   "metadata": {},
   "outputs": [],
   "source": []
  },
  {
   "cell_type": "code",
   "execution_count": null,
   "id": "0dfd9945",
   "metadata": {},
   "outputs": [],
   "source": []
  },
  {
   "cell_type": "code",
   "execution_count": null,
   "id": "a44defa7",
   "metadata": {},
   "outputs": [],
   "source": []
  },
  {
   "cell_type": "code",
   "execution_count": null,
   "id": "eb0419de",
   "metadata": {},
   "outputs": [],
   "source": []
  },
  {
   "cell_type": "code",
   "execution_count": null,
   "id": "1f691955",
   "metadata": {},
   "outputs": [],
   "source": []
  },
  {
   "cell_type": "code",
   "execution_count": null,
   "id": "a68ae429",
   "metadata": {},
   "outputs": [],
   "source": []
  },
  {
   "cell_type": "code",
   "execution_count": 1,
   "id": "b06d7f1a",
   "metadata": {},
   "outputs": [],
   "source": [
    "# Some things that still need doing:\n",
    "\n",
    "# Discuss interpretation\n",
    "# Add some plots of parameter distributions\n",
    "# Figure out how instruments were computed in data sets\n",
    "# Figure out why the specific values are used for initial guesses for pi and sigma; results change with other values\n",
    "# Add a little more descriptions inbetween code (?)"
   ]
  },
  {
   "cell_type": "code",
   "execution_count": null,
   "id": "7391364e",
   "metadata": {},
   "outputs": [],
   "source": []
  }
 ],
 "metadata": {
  "kernelspec": {
   "display_name": "Python 3 (ipykernel)",
   "language": "python",
   "name": "python3"
  },
  "language_info": {
   "codemirror_mode": {
    "name": "ipython",
    "version": 3
   },
   "file_extension": ".py",
   "mimetype": "text/x-python",
   "name": "python",
   "nbconvert_exporter": "python",
   "pygments_lexer": "ipython3",
   "version": "3.8.5"
  }
 },
 "nbformat": 4,
 "nbformat_minor": 5
}
