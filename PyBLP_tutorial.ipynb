{
 "cells": [
  {
   "cell_type": "markdown",
   "id": "cd4613f3",
   "metadata": {},
   "source": [
    "# Random Coefficients Logit Tutorial\n",
    "This tutorial uses fake cereal data from Nevo (2000) and shows how to use the PyBLP package for Python 3."
   ]
  },
  {
   "cell_type": "code",
   "execution_count": null,
   "id": "ac045b45",
   "metadata": {},
   "outputs": [],
   "source": []
  }
 ],
 "metadata": {
  "kernelspec": {
   "display_name": "Python 3 (ipykernel)",
   "language": "python",
   "name": "python3"
  },
  "language_info": {
   "codemirror_mode": {
    "name": "ipython",
    "version": 3
   },
   "file_extension": ".py",
   "mimetype": "text/x-python",
   "name": "python",
   "nbconvert_exporter": "python",
   "pygments_lexer": "ipython3",
   "version": "3.9.7"
  }
 },
 "nbformat": 4,
 "nbformat_minor": 5
}
