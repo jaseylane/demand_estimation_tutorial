{
 "cells": [
  {
   "cell_type": "markdown",
   "id": "fdd239ad",
   "metadata": {},
   "source": [
    "# Random Coefficients Logit Tutorial - PyBLP\n",
    "\n",
    "\n",
    "This tutorial follows Section 4 of the paper from Aviv Nevo (2000): \"A practitioner’s guide to estimation of random‐coefficients logit models of demand.  *Journal of Economics & Management Strategy*, 9 (4), 513-548\".\n",
    "\n",
    "The paper shows a possible application of the random-coefficients Logit model. We are going to use the same data and solve the paper’s cereal problem. The data is fake, and should only be used to learn the method.\n",
    "\n",
    "We will use the PyBLP package for Python 3. Documentation for this package can be found at https://pyblp.readthedocs.io/en/stable/index.html .\n",
    "\n",
    "### Theory of Random Coefficients Logit\n",
    "This method retains the benefits of simpler discrete-choice models: it can be estimated using only market-level price and quantity data and it deals with the endogeneity of prices. Moreover, it returns more realistic demand elesticities than Logit/Nested Logit models. \n",
    "\n",
    "The chosen specification of the indirect utility of consumer $i$ from consuming product $j$ in market $t$ is:\n",
    "\n",
    "$u_{ijt} = \\alpha_i p_{jt} + x'_{jt} \\beta_i + \\xi_{jt} + \\epsilon_{ijt}$\n",
    "\n",
    "Where $p_{jt}$ is the price, $x'_{jt}$ is the (row) vector of $K$ observable characteristics of the product, $\\epsilon_{ijt}$ is the mean-zero stochastic term,  i.i.d. distributed with the Type I Extreme Value (Gumbel) distribution, and $\\xi_{jt}$ is the unobserved (by the econometrician) characteristics.\n",
    "\n",
    "This specification can be derived from a quasilinear utility function (free of wealth effects) because of the way price enters the indirect utility function. Including wealth effects could be more reasonable for other types of products (e.g. cars). Notice that $\\xi_{jt}$, which among other things captures the elements of vertical product differentiation, is identical for all consumers, while $\\alpha_i$ varies: this is consistent with the theoretical literature of vertical product differentiation.\n",
    "\n",
    "The mean utility of the outside good is normalized to zero, so that $u_{i0t} = \\epsilon_{i0t}$.\n",
    "\n",
    "We can separate the linear component of utility from the non-linear one: $u_{ijt} = \\delta_{jt} + \\mu_{ijt} \\;$, where $\\delta_{jt} = \\alpha p_{jt} + x'_{jt} \\bar\\beta + \\xi_{jt} \\;$ is the aspects of mean utility that all individuals agree on, and $\\mu_{ijt}(\\theta) \\;$ is the individual specific heterogeneity (let $\\theta$ be a vector with all parameters of the model).\n",
    "\n",
    "Consumers are assumed to purchase one unit of the good that gives the highest utility. The set of individual attributes that lead to the choice of good $j$ is:\n",
    "\n",
    "$A_{jt}(\\delta) = \\{\\mu_i \\; | \\; \\delta_{jt} + \\mu_{ijt} > \\delta_{j't} + \\mu_{ij't},\\; \\text{for all} \\; j' \\neq j \\}$\n",
    "\n",
    "Therefore, the estimated market share of product $j$ is:\n",
    "\n",
    "$S_{jt}(\\delta_{jt}, \\theta) = \\int_{A_{jt}} \\frac{\\exp{(\\delta_{jt} + \\mu_{ijt})}}{1+\\sum_k \\exp{(\\delta_{kt} + \\mu_{ikt})}}d\\mu $\n",
    "\n",
    "For each $\\theta$ there is a unique $\\delta_{jt}(\\theta)$ that solves $S^{obs}_{jt} - S_{jt}(\\delta_{jt}, \\theta) = 0 \\;$ (Berry, 1994). This system of equations is nonlinear and is solved numerically. It can be solved by using the contraction mapping suggested by BLP(1995), which means computing the series:\n",
    "\n",
    "$\\delta_{jt}^{h+1} = \\delta_{jt}^{h} + ln(S^{obs}_{jt}) - ln(S_{jt}(\\delta_{jt}^{h}, \\theta))\\;\\;\\;\\;$ (see BLP Appendix I for proof of convergence)\n",
    "\n",
    "where $h=0, \\ldots, H$, $H$ is the smallest integer such that $||\\delta_{jt}^{H}-\\delta_{jt}^{H-1}||$ is smaller than some tolerance level, and $\\delta_{jt}^{H}$ is the approximation to $\\delta_{jt}$. In words, we begin evaluating the right-hand side of the series at some initial guess for $\\theta$ and $\\delta_{jt}$, obtain a new $\\delta_{jt}^{h}$, substitute $\\delta_{jt}^{h}$ back into the right-hand side of the series, and repeat the process until convergence. \n",
    "\n",
    "We then compute the error term vector $\\hat\\xi_{jt}(\\theta)$. Let $z_{jt}$ be a set of instruments such that $E[z'_{jt} \\xi_{jt}(\\theta)] = 0$. The GMM estimate is then\n",
    "\n",
    "$\\hat\\theta_{GMM} = \\underset{\\theta}{\\operatorname{argmin}} \\; \\xi(\\theta)' z_{jt} \\Phi^{-1} z'_{jt} \\xi(\\theta)$\n",
    "\n",
    "where $\\Phi$ is the variance-covariance matrix of the moments. The inverse is used to give less weight to those moments that have higher variance.\n",
    "\n",
    "### Specification of Random Taste Parameters\n",
    "\n",
    "We have to specify an initial guess of the nonlinear parameters. This serves two primary purposes: speeding up estimation and indicating to the solver through initial values of zero which parameters are restricted to be always zero.\n",
    "It is common to assume that the random taste parameters follow a multivariate normal distribution, and to break them up into three parts:\n",
    "\n",
    "$\\begin{pmatrix} \\alpha_i \\\\ \\beta_i \\end{pmatrix} =\\begin{pmatrix} \\alpha \\\\ \\beta \\end{pmatrix} + \\Pi d_i + \\Sigma v_i$.\n",
    "\n",
    "where $\\alpha$ and $\\beta$ are the mean taste which all individuals agree on, $d_i$ is a $D\\times1$ vector of known demographic variables, $\\Pi$ is a $(K+1)\\times D$ matrix of coefficients that measure how the taste characteristics vary with demographics, $\\Sigma$ is a $(K+1)\\times (K+1)$ matrix of parameters, and $v_i$ represents unknown individual characteristics. We cannot directly observe individual data about $d_i$ and $v_i$. The difference between the two is that we know something about the distribution of demographics $d_i$ (e.g. thorugh census data).\n",
    "\n",
    "### The Data\n",
    "The data used for the analysis below consists of `shares` and `prices` for 24 brands of breakfast cereals (a differentiated product ) in 47 cities over 2 quarters (`quarter`). `market_ids` are the unique market identifiers (which we subscript $t$). Whithin a market, the sum of all `shares` must be less than 1. Firm and brand are identified by columns `firm_ids`, `product_ids`. There are two product characteristics: `Sugar`, which measures sugar content, and `Mushy`, a dummy variable equal to one if the product gets soggy in milk. There are 20 pre-computed instruments (`demand_instruments0`, ... , `demand_instruments19`). These represent only the excluded instruments. The exogenous regressors will be automatically added to the set of instruments. Finally, demographic variables include the log of income (`Income`), the log of income squared, (`Income Sq`), `Age`, and `Child`, a dummy variable equal to one if the individual is less than sixteen.\n",
    "\n",
    "\n"
   ]
  },
  {
   "cell_type": "markdown",
   "id": "2ed9e259",
   "metadata": {},
   "source": []
  },
  {
   "cell_type": "markdown",
   "id": "4fbc7ae7",
   "metadata": {},
   "source": []
  },
  {
   "cell_type": "markdown",
   "id": "5c96d64f",
   "metadata": {},
   "source": []
  },
  {
   "cell_type": "markdown",
   "id": "f8673da8",
   "metadata": {},
   "source": [
    "## Explaining the Results"
   ]
  }
 ],
 "metadata": {
  "kernelspec": {
   "display_name": "Python 3 (ipykernel)",
   "language": "python",
   "name": "python3"
  },
  "language_info": {
   "codemirror_mode": {
    "name": "ipython",
    "version": 3
   },
   "file_extension": ".py",
   "mimetype": "text/x-python",
   "name": "python",
   "nbconvert_exporter": "python",
   "pygments_lexer": "ipython3",
   "version": "3.9.7"
  }
 },
 "nbformat": 4,
 "nbformat_minor": 5
}
